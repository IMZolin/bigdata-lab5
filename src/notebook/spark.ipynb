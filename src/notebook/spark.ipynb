{
 "cells": [
  {
   "cell_type": "code",
   "execution_count": 5,
   "id": "54323706",
   "metadata": {},
   "outputs": [],
   "source": [
    "import configparser\n",
    "import os\n",
    "import sys\n",
    "from functools import reduce\n",
    "import matplotlib.pyplot as plt\n",
    "from pyspark import SparkConf\n",
    "from pyspark.sql import SparkSession\n",
    "from pyspark.ml.clustering import KMeans\n",
    "from pyspark.ml.evaluation import ClusteringEvaluator\n",
    "from pyspark.ml.feature import VectorAssembler, StandardScaler\n",
    "from pyspark.sql.functions import explode, split, col, when, expr"
   ]
  },
  {
   "cell_type": "code",
   "execution_count": null,
   "id": "910d7ca0",
   "metadata": {},
   "outputs": [],
   "source": [
    "PROJECT_ROOT = os.path.abspath(os.path.join(os.getcwd(), \"../..\"))\n",
    "DATA = os.path.join(PROJECT_ROOT, \"data\", \"input.txt\")\n",
    "OUTPUT = os.path.join(PROJECT_ROOT, \"data\", \"output\")\n",
    "\n",
    "if not os.path.exists(DATA):\n",
    "    raise FileNotFoundError(f\"Input file not found: {DATA}\")"
   ]
  },
  {
   "cell_type": "code",
   "execution_count": 14,
   "id": "e7264156",
   "metadata": {},
   "outputs": [
    {
     "name": "stdout",
     "output_type": "stream",
     "text": [
      "4.0.1\n",
      "+-----+-----+\n",
      "|word |count|\n",
      "+-----+-----+\n",
      "|you  |1    |\n",
      "|how  |1    |\n",
      "|hello|1    |\n",
      "|Hello|2    |\n",
      "|spark|1    |\n",
      "|are  |1    |\n",
      "|world|1    |\n",
      "|itmo |1    |\n",
      "+-----+-----+\n",
      "\n"
     ]
    }
   ],
   "source": [
    "spark = SparkSession.builder \\\n",
    "    .appName(\"WordCount\") \\\n",
    "    .master(\"local[*]\") \\\n",
    "    .getOrCreate()\n",
    "\n",
    "print(spark.version)\n",
    "lines = spark.read.text(DATA)\n",
    "words = lines.select(explode(split(col(\"value\"), \"\\\\s+\")).alias(\"word\"))\n",
    "word_counts = words.groupBy(\"word\").count()\n",
    "word_counts.show(truncate=False)\n",
    "word_counts.write.mode(\"overwrite\").csv(OUTPUT)\n",
    "spark.stop()"
   ]
  },
  {
   "cell_type": "code",
   "execution_count": 11,
   "id": "fc344487",
   "metadata": {},
   "outputs": [
    {
     "name": "stdout",
     "output_type": "stream",
     "text": [
      "\n",
      "=== Spark Configuration Parameters ===\n",
      "spark.rdd.compress: True\n",
      "spark.hadoop.fs.s3a.vectored.read.min.seek.size: 128K\n",
      "spark.app.id: local-1757970588453\n",
      "spark.sql.warehouse.dir: file:/Users/ivanzolin/Documents/itmo-magistracy/mle-bigdata/labs/bigdata-lab5/src/notebook/spark-warehouse\n",
      "spark.executor.extraJavaOptions: -Djava.net.preferIPv6Addresses=false -XX:+IgnoreUnrecognizedVMOptions --add-modules=jdk.incubator.vector --add-opens=java.base/java.lang=ALL-UNNAMED --add-opens=java.base/java.lang.invoke=ALL-UNNAMED --add-opens=java.base/java.lang.reflect=ALL-UNNAMED --add-opens=java.base/java.io=ALL-UNNAMED --add-opens=java.base/java.net=ALL-UNNAMED --add-opens=java.base/java.nio=ALL-UNNAMED --add-opens=java.base/java.util=ALL-UNNAMED --add-opens=java.base/java.util.concurrent=ALL-UNNAMED --add-opens=java.base/java.util.concurrent.atomic=ALL-UNNAMED --add-opens=java.base/jdk.internal.ref=ALL-UNNAMED --add-opens=java.base/sun.nio.ch=ALL-UNNAMED --add-opens=java.base/sun.nio.cs=ALL-UNNAMED --add-opens=java.base/sun.security.action=ALL-UNNAMED --add-opens=java.base/sun.util.calendar=ALL-UNNAMED --add-opens=java.security.jgss/sun.security.krb5=ALL-UNNAMED -Djdk.reflect.useDirectMethodHandle=false -Dio.netty.tryReflectionSetAccessible=true\n",
      "spark.sql.artifact.isolation.enabled: false\n",
      "spark.app.startTime: 1757970588102\n",
      "spark.driver.port: 62485\n",
      "spark.master: local[*]\n",
      "spark.app.name: WordCount\n",
      "spark.app.submitTime: 1757970587991\n",
      "spark.executor.id: driver\n",
      "spark.submit.pyFiles: \n",
      "spark.driver.host: 192.168.31.103\n",
      "spark.driver.extraJavaOptions: -Djava.net.preferIPv6Addresses=false -XX:+IgnoreUnrecognizedVMOptions --add-modules=jdk.incubator.vector --add-opens=java.base/java.lang=ALL-UNNAMED --add-opens=java.base/java.lang.invoke=ALL-UNNAMED --add-opens=java.base/java.lang.reflect=ALL-UNNAMED --add-opens=java.base/java.io=ALL-UNNAMED --add-opens=java.base/java.net=ALL-UNNAMED --add-opens=java.base/java.nio=ALL-UNNAMED --add-opens=java.base/java.util=ALL-UNNAMED --add-opens=java.base/java.util.concurrent=ALL-UNNAMED --add-opens=java.base/java.util.concurrent.atomic=ALL-UNNAMED --add-opens=java.base/jdk.internal.ref=ALL-UNNAMED --add-opens=java.base/sun.nio.ch=ALL-UNNAMED --add-opens=java.base/sun.nio.cs=ALL-UNNAMED --add-opens=java.base/sun.security.action=ALL-UNNAMED --add-opens=java.base/sun.util.calendar=ALL-UNNAMED --add-opens=java.security.jgss/sun.security.krb5=ALL-UNNAMED -Djdk.reflect.useDirectMethodHandle=false -Dio.netty.tryReflectionSetAccessible=true\n",
      "spark.hadoop.fs.s3a.vectored.read.max.merged.size: 2M\n",
      "spark.submit.deployMode: client\n",
      "spark.serializer.objectStreamReset: 100\n",
      "spark.ui.showConsoleProgress: true\n",
      "=== End Configuration ===\n",
      "\n"
     ]
    }
   ],
   "source": [
    "print(\"\\n=== Spark Configuration Parameters ===\")\n",
    "for k, v in spark.sparkContext.getConf().getAll():\n",
    "    print(f\"{k}: {v}\")\n",
    "print(\"=== End Configuration ===\\n\")"
   ]
  }
 ],
 "metadata": {
  "kernelspec": {
   "display_name": "bigdata-lab5",
   "language": "python",
   "name": "python3"
  },
  "language_info": {
   "codemirror_mode": {
    "name": "ipython",
    "version": 3
   },
   "file_extension": ".py",
   "mimetype": "text/x-python",
   "name": "python",
   "nbconvert_exporter": "python",
   "pygments_lexer": "ipython3",
   "version": "3.10.0"
  }
 },
 "nbformat": 4,
 "nbformat_minor": 5
}
