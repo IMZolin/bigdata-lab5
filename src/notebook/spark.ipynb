{
 "cells": [
  {
   "cell_type": "code",
   "execution_count": 1,
   "id": "54323706",
   "metadata": {},
   "outputs": [],
   "source": [
    "import configparser\n",
    "import os\n",
    "import sys\n",
    "from pathlib import Path\n",
    "from functools import reduce\n",
    "import matplotlib.pyplot as plt\n",
    "from pyspark import SparkConf\n",
    "from pyspark.sql import SparkSession\n",
    "from pyspark.ml.clustering import KMeans\n",
    "from pyspark.ml.evaluation import ClusteringEvaluator\n",
    "from pyspark.ml.feature import VectorAssembler, StandardScaler\n",
    "from pyspark.sql.functions import explode, split, col, when, expr\n",
    "from pyspark.sql import functions as F"
   ]
  },
  {
   "cell_type": "code",
   "execution_count": 2,
   "id": "0d1e3571",
   "metadata": {},
   "outputs": [],
   "source": [
    "root_dir = Path.cwd().parent.parent\n",
    "CONFIG_PATH = str(root_dir / 'config.ini')\n",
    "\n",
    "if not os.path.exists(CONFIG_PATH):\n",
    "    raise FileNotFoundError(f\"Input file not found: {CONFIG_PATH}\")"
   ]
  },
  {
   "cell_type": "code",
   "execution_count": 3,
   "id": "6dd57e0a",
   "metadata": {},
   "outputs": [],
   "source": [
    "config = configparser.ConfigParser()\n",
    "config.optionxform = str\n",
    "config.read(CONFIG_PATH)\n",
    "spark_conf = SparkConf().setAll(config['SPARK'].items())\n",
    "SOURCE_DATA_PATH = str(root_dir / config['DATA']['source'])\n",
    "PROCESSED_DATA_PATH = str(root_dir / config['DATA']['processed'])\n",
    "MODEL_PATH = str(root_dir / config['MODEL']['model_path'])\n",
    "OUTPUT = os.path.join(root_dir, \"data\", \"output\")\n",
    "SAMPLE = os.path.join(root_dir, \"data\", \"input.txt\")"
   ]
  },
  {
   "cell_type": "code",
   "execution_count": 4,
   "id": "e7264156",
   "metadata": {},
   "outputs": [
    {
     "name": "stderr",
     "output_type": "stream",
     "text": [
      "WARNING: Using incubator modules: jdk.incubator.vector\n",
      "Using Spark's default log4j profile: org/apache/spark/log4j2-defaults.properties\n",
      "25/09/16 13:23:12 WARN Utils: Your hostname, MacBook-Air-Ivan-2.local, resolves to a loopback address: 127.0.0.1; using 192.168.31.103 instead (on interface en0)\n",
      "25/09/16 13:23:12 WARN Utils: Set SPARK_LOCAL_IP if you need to bind to another address\n",
      "Using Spark's default log4j profile: org/apache/spark/log4j2-defaults.properties\n",
      "Setting default log level to \"WARN\".\n",
      "To adjust logging level use sc.setLogLevel(newLevel). For SparkR, use setLogLevel(newLevel).\n",
      "25/09/16 13:23:12 WARN NativeCodeLoader: Unable to load native-hadoop library for your platform... using builtin-java classes where applicable\n"
     ]
    },
    {
     "name": "stdout",
     "output_type": "stream",
     "text": [
      "4.0.1\n",
      "+-----+-----+\n",
      "|word |count|\n",
      "+-----+-----+\n",
      "|you  |1    |\n",
      "|how  |1    |\n",
      "|hello|1    |\n",
      "|Hello|2    |\n",
      "|spark|1    |\n",
      "|are  |1    |\n",
      "|world|1    |\n",
      "|itmo |1    |\n",
      "+-----+-----+\n",
      "\n"
     ]
    }
   ],
   "source": [
    "spark = SparkSession.builder \\\n",
    "    .appName(\"BigDataLab5\") \\\n",
    "    .config(\"spark.driver.memory\", \"16g\") \\\n",
    "    .config(\"spark.executor.memory\", \"8g\") \\\n",
    "    .getOrCreate()\n",
    "\n",
    "\n",
    "print(spark.version)\n",
    "lines = spark.read.text(SAMPLE)\n",
    "words = lines.select(explode(split(col(\"value\"), \"\\\\s+\")).alias(\"word\"))\n",
    "word_counts = words.groupBy(\"word\").count()\n",
    "word_counts.show(truncate=False)\n",
    "word_counts.write.mode(\"overwrite\").csv(OUTPUT)\n",
    "spark.stop()"
   ]
  },
  {
   "cell_type": "code",
   "execution_count": 5,
   "id": "fc344487",
   "metadata": {},
   "outputs": [
    {
     "name": "stdout",
     "output_type": "stream",
     "text": [
      "\n",
      "=== Spark Configuration Parameters ===\n",
      "spark.app.submitTime: 1758018192699\n",
      "spark.rdd.compress: True\n",
      "spark.hadoop.fs.s3a.vectored.read.min.seek.size: 128K\n",
      "spark.sql.warehouse.dir: file:/Users/ivanzolin/Documents/itmo-magistracy/mle-bigdata/labs/bigdata-lab5/src/notebook/spark-warehouse\n",
      "spark.executor.extraJavaOptions: -Djava.net.preferIPv6Addresses=false -XX:+IgnoreUnrecognizedVMOptions --add-modules=jdk.incubator.vector --add-opens=java.base/java.lang=ALL-UNNAMED --add-opens=java.base/java.lang.invoke=ALL-UNNAMED --add-opens=java.base/java.lang.reflect=ALL-UNNAMED --add-opens=java.base/java.io=ALL-UNNAMED --add-opens=java.base/java.net=ALL-UNNAMED --add-opens=java.base/java.nio=ALL-UNNAMED --add-opens=java.base/java.util=ALL-UNNAMED --add-opens=java.base/java.util.concurrent=ALL-UNNAMED --add-opens=java.base/java.util.concurrent.atomic=ALL-UNNAMED --add-opens=java.base/jdk.internal.ref=ALL-UNNAMED --add-opens=java.base/sun.nio.ch=ALL-UNNAMED --add-opens=java.base/sun.nio.cs=ALL-UNNAMED --add-opens=java.base/sun.security.action=ALL-UNNAMED --add-opens=java.base/sun.util.calendar=ALL-UNNAMED --add-opens=java.security.jgss/sun.security.krb5=ALL-UNNAMED -Djdk.reflect.useDirectMethodHandle=false -Dio.netty.tryReflectionSetAccessible=true\n",
      "spark.sql.artifact.isolation.enabled: false\n",
      "spark.driver.memory: 16g\n",
      "spark.master: local[*]\n",
      "spark.app.name: BigDataLab5\n",
      "spark.app.id: local-1758018193196\n",
      "spark.executor.id: driver\n",
      "spark.submit.pyFiles: \n",
      "spark.driver.host: 192.168.31.103\n",
      "spark.driver.extraJavaOptions: -Djava.net.preferIPv6Addresses=false -XX:+IgnoreUnrecognizedVMOptions --add-modules=jdk.incubator.vector --add-opens=java.base/java.lang=ALL-UNNAMED --add-opens=java.base/java.lang.invoke=ALL-UNNAMED --add-opens=java.base/java.lang.reflect=ALL-UNNAMED --add-opens=java.base/java.io=ALL-UNNAMED --add-opens=java.base/java.net=ALL-UNNAMED --add-opens=java.base/java.nio=ALL-UNNAMED --add-opens=java.base/java.util=ALL-UNNAMED --add-opens=java.base/java.util.concurrent=ALL-UNNAMED --add-opens=java.base/java.util.concurrent.atomic=ALL-UNNAMED --add-opens=java.base/jdk.internal.ref=ALL-UNNAMED --add-opens=java.base/sun.nio.ch=ALL-UNNAMED --add-opens=java.base/sun.nio.cs=ALL-UNNAMED --add-opens=java.base/sun.security.action=ALL-UNNAMED --add-opens=java.base/sun.util.calendar=ALL-UNNAMED --add-opens=java.security.jgss/sun.security.krb5=ALL-UNNAMED -Djdk.reflect.useDirectMethodHandle=false -Dio.netty.tryReflectionSetAccessible=true\n",
      "spark.hadoop.fs.s3a.vectored.read.max.merged.size: 2M\n",
      "spark.submit.deployMode: client\n",
      "spark.executor.memory: 8g\n",
      "spark.serializer.objectStreamReset: 100\n",
      "spark.driver.port: 61129\n",
      "spark.app.startTime: 1758018192805\n",
      "spark.ui.showConsoleProgress: true\n",
      "=== End Configuration ===\n",
      "\n"
     ]
    }
   ],
   "source": [
    "print(\"\\n=== Spark Configuration Parameters ===\")\n",
    "for k, v in spark.sparkContext.getConf().getAll():\n",
    "    print(f\"{k}: {v}\")\n",
    "print(\"=== End Configuration ===\\n\")"
   ]
  },
  {
   "cell_type": "code",
   "execution_count": 6,
   "id": "40fd2b38",
   "metadata": {},
   "outputs": [],
   "source": [
    "spark = SparkSession.builder \\\n",
    "    .appName(\"KMeans\") \\\n",
    "    .master(\"local[*]\") \\\n",
    "    .config(conf=spark_conf) \\\n",
    "    .getOrCreate()"
   ]
  },
  {
   "cell_type": "code",
   "execution_count": 7,
   "id": "a77ccb21",
   "metadata": {},
   "outputs": [
    {
     "name": "stderr",
     "output_type": "stream",
     "text": [
      "25/09/16 13:23:52 WARN SparkStringUtils: Truncated the string representation of a plan since it was too large. This behavior can be adjusted by setting 'spark.sql.debug.maxToStringFields'.\n"
     ]
    },
    {
     "name": "stdout",
     "output_type": "stream",
     "text": [
      "+----+---------------------------------------------------------------------------------------+--------------------------+----------+-------------------+---------------+----------------------+----------------+--------------+---------------------+------------------------------+------------------------+------------+---------+---------+--------------+------------+--------------+---------------------------+--------------------------------+--------------------------+----------------------------------------------------------------+---------------------------------------------------------------------+------------------------------------------------------------+---------------------------+------------------------------------+------------------------------+--------------------+-------------------------+---------------------------------------------------------------------------------------------------------------------------------+-------------------------------------------------------------------------------------------------------------------------------------------------+----------------------------------------------------------------------------------------------------------------------+---------+--------------+------------------------+------+-----------+---------------+------+---------------------------------+-------------------------------------+----------------------------+--------------------------------------------------------------------------------------------------------------------------------------------------------------------------------------------------------------------------------------------------------------------------------------------------------------------------------------------------------------------------------------------------------------------------------------------------------------------------------------------------------------------------------------------------------------------------------------------------------------------------+---------------------------------------------------------------------------------------------------------------------------------------------------------------------------------------------------------------------------------------------------------------------------------------------------------------------------------------------------------------------------------------------------------------------------------------------------------------------------------------------------------------------------------------------------------------------------------------------------------------------------------------------------------------------------------------------------+--------------------------------------------------------------------------------+-------------------+------------+------+-----------+---------+------------+----------------+-----------------+-----------+---------+--------------+------------+----------------+----------------+----------+-------------+-------------+-----------+----------------+--------------+----------------------------------------------------------------------------------------------------------------------------------------------------------------------------------------------------------------------------------------------------------------------------------------------------------------------------------------------------------------------------------------------------------------------------------------------------------------------------------------------------------------------------------------------------------------------------+-----------------------------------------------------------------------------------------------------------------------------------------------------------------------------------------------------------------------------------------------------------------------------------------------------------------------------------------------------------------------------------------------------------------------------------------------------------------------------------------------------------------------------------------------------------+-----------------------------------------------------------------------------------------------------------------------------------------------------------------------------------------------------------------------------------------------------------------------------------------------------------------------------------------------------------------------------------------------------------------------------------------------------------------------------------------------------+-----------+-------------------------+-------------------------+-------------------------------------------------------------------------------------------------------------------------+----------------+-------------------------+--------------------------------------------------------------------------------------------------------------------------------------------------------------------------------------+--------------+----------------------------------------------------------------------------------------------------------------------------------------------------------------------------------------------------------+------------+------------+-------------------+----------------------+-------------------+-----------------------------------------------------------------------------+-----------------------------------------------------------------------------+-----------------------------------------------------------------------------------+-----------------------------------------------------------------------------------+---------------------------------------------------------------------------------+---------------------------------------------------------------------------------+--------------+----------------+-----------+--------------------+--------+------------------+-----------------+-----------------+------------------+----------------+----------------+------------------+------------------+-----------------+-------------------+-----------------+--------------------+-----------------+------------------+------------------+--------------------+------------------------+----------------+------------------------+----------------+----------------+-------------------------+--------------------------+-------------------------+------------------+---------------------+-------------------------+--------------------------------+---------------+-----------------+-----------------+--------------+----------------+------------------+--------------+----------------+------------------+-----------+-----------------+------------+------------+-------------+--------------+------------+------------+------------------+------------+-----------+------------+---------------+------------+-------------+-------------+----------+------------------+--------------------+-------------+-----------+-------------------+----------------+---------+---------------+-----------+------------+--------------+------------------+--------------+--------------+--------------+--------------+---------------+---------------+---------------+---------------+---------------+------------+----------------+-----------+---------------------+-----------+----------------+--------------+-------------+------------+---------------+---------+--------------+---------+-----------+--------------+-------------+-------------+-------------+---------------+-----------+-------------+------------+--------------------------+-------+---------------------------+---------------------------------+------------------------------------+-----------------------------------------------------+--------------------------------+----------+---------------+---------------------+---------------------------------------+-----------------------+-----------------------+-------------------+-------------------+------------+------------------+----------------+-------------+--------------+-------------+------------+------------+------------------------+\n",
      "|code|url                                                                                    |creator                   |created_t |created_datetime   |last_modified_t|last_modified_datetime|last_modified_by|last_updated_t|last_updated_datetime|product_name                  |abbreviated_product_name|generic_name|quantity |packaging|packaging_tags|packaging_en|packaging_text|brands                     |brands_tags                     |brands_en                 |categories                                                      |categories_tags                                                      |categories_en                                               |origins                    |origins_tags                        |origins_en                    |manufacturing_places|manufacturing_places_tags|labels                                                                                                                           |labels_tags                                                                                                                                      |labels_en                                                                                                             |emb_codes|emb_codes_tags|first_packaging_code_geo|cities|cities_tags|purchase_places|stores|countries                        |countries_tags                       |countries_en                |ingredients_text                                                                                                                                                                                                                                                                                                                                                                                                                                                                                                                                                                                                          |ingredients_tags                                                                                                                                                                                                                                                                                                                                                                                                                                                                                                                                                                                                                                                                                   |ingredients_analysis_tags                                                       |allergens          |allergens_en|traces|traces_tags|traces_en|serving_size|serving_quantity|no_nutrition_data|additives_n|additives|additives_tags|additives_en|nutriscore_score|nutriscore_grade|nova_group|pnns_groups_1|pnns_groups_2|food_groups|food_groups_tags|food_groups_en|states                                                                                                                                                                                                                                                                                                                                                                                                                                                                                                                                                                      |states_tags                                                                                                                                                                                                                                                                                                                                                                                                                                                                                                                                                |states_en                                                                                                                                                                                                                                                                                                                                                                                                                                                                                            |brand_owner|environmental_score_score|environmental_score_grade|nutrient_levels_tags                                                                                                     |product_quantity|owner                    |data_quality_errors_tags                                                                                                                                                              |unique_scans_n|popularity_tags                                                                                                                                                                                           |completeness|last_image_t|last_image_datetime|main_category         |main_category_en   |image_url                                                                    |image_small_url                                                              |image_ingredients_url                                                              |image_ingredients_small_url                                                        |image_nutrition_url                                                              |image_nutrition_small_url                                                        |energy-kj_100g|energy-kcal_100g|energy_100g|energy-from-fat_100g|fat_100g|saturated-fat_100g|butyric-acid_100g|caproic-acid_100g|caprylic-acid_100g|capric-acid_100g|lauric-acid_100g|myristic-acid_100g|palmitic-acid_100g|stearic-acid_100g|arachidic-acid_100g|behenic-acid_100g|lignoceric-acid_100g|cerotic-acid_100g|montanic-acid_100g|melissic-acid_100g|unsaturated-fat_100g|monounsaturated-fat_100g|omega-9-fat_100g|polyunsaturated-fat_100g|omega-3-fat_100g|omega-6-fat_100g|alpha-linolenic-acid_100g|eicosapentaenoic-acid_100g|docosahexaenoic-acid_100g|linoleic-acid_100g|arachidonic-acid_100g|gamma-linolenic-acid_100g|dihomo-gamma-linolenic-acid_100g|oleic-acid_100g|elaidic-acid_100g|gondoic-acid_100g|mead-acid_100g|erucic-acid_100g|nervonic-acid_100g|trans-fat_100g|cholesterol_100g|carbohydrates_100g|sugars_100g|added-sugars_100g|sucrose_100g|glucose_100g|fructose_100g|galactose_100g|lactose_100g|maltose_100g|maltodextrins_100g|psicose_100g|starch_100g|polyols_100g|erythritol_100g|isomalt_100g|maltitol_100g|sorbitol_100g|fiber_100g|soluble-fiber_100g|insoluble-fiber_100g|proteins_100g|casein_100g|serum-proteins_100g|nucleotides_100g|salt_100g|added-salt_100g|sodium_100g|alcohol_100g|vitamin-a_100g|beta-carotene_100g|vitamin-d_100g|vitamin-e_100g|vitamin-k_100g|vitamin-c_100g|vitamin-b1_100g|vitamin-b2_100g|vitamin-pp_100g|vitamin-b6_100g|vitamin-b9_100g|folates_100g|vitamin-b12_100g|biotin_100g|pantothenic-acid_100g|silica_100g|bicarbonate_100g|potassium_100g|chloride_100g|calcium_100g|phosphorus_100g|iron_100g|magnesium_100g|zinc_100g|copper_100g|manganese_100g|fluoride_100g|selenium_100g|chromium_100g|molybdenum_100g|iodine_100g|caffeine_100g|taurine_100g|methylsulfonylmethane_100g|ph_100g|fruits-vegetables-nuts_100g|fruits-vegetables-nuts-dried_100g|fruits-vegetables-nuts-estimate_100g|fruits-vegetables-nuts-estimate-from-ingredients_100g|collagen-meat-protein-ratio_100g|cocoa_100g|chlorophyl_100g|carbon-footprint_100g|carbon-footprint-from-meat-or-fish_100g|nutrition-score-fr_100g|nutrition-score-uk_100g|glycemic-index_100g|water-hardness_100g|choline_100g|phylloquinone_100g|beta-glucan_100g|inositol_100g|carnitine_100g|sulphate_100g|nitrate_100g|acidity_100g|carbohydrates-total_100g|\n",
      "+----+---------------------------------------------------------------------------------------+--------------------------+----------+-------------------+---------------+----------------------+----------------+--------------+---------------------+------------------------------+------------------------+------------+---------+---------+--------------+------------+--------------+---------------------------+--------------------------------+--------------------------+----------------------------------------------------------------+---------------------------------------------------------------------+------------------------------------------------------------+---------------------------+------------------------------------+------------------------------+--------------------+-------------------------+---------------------------------------------------------------------------------------------------------------------------------+-------------------------------------------------------------------------------------------------------------------------------------------------+----------------------------------------------------------------------------------------------------------------------+---------+--------------+------------------------+------+-----------+---------------+------+---------------------------------+-------------------------------------+----------------------------+--------------------------------------------------------------------------------------------------------------------------------------------------------------------------------------------------------------------------------------------------------------------------------------------------------------------------------------------------------------------------------------------------------------------------------------------------------------------------------------------------------------------------------------------------------------------------------------------------------------------------+---------------------------------------------------------------------------------------------------------------------------------------------------------------------------------------------------------------------------------------------------------------------------------------------------------------------------------------------------------------------------------------------------------------------------------------------------------------------------------------------------------------------------------------------------------------------------------------------------------------------------------------------------------------------------------------------------+--------------------------------------------------------------------------------+-------------------+------------+------+-----------+---------+------------+----------------+-----------------+-----------+---------+--------------+------------+----------------+----------------+----------+-------------+-------------+-----------+----------------+--------------+----------------------------------------------------------------------------------------------------------------------------------------------------------------------------------------------------------------------------------------------------------------------------------------------------------------------------------------------------------------------------------------------------------------------------------------------------------------------------------------------------------------------------------------------------------------------------+-----------------------------------------------------------------------------------------------------------------------------------------------------------------------------------------------------------------------------------------------------------------------------------------------------------------------------------------------------------------------------------------------------------------------------------------------------------------------------------------------------------------------------------------------------------+-----------------------------------------------------------------------------------------------------------------------------------------------------------------------------------------------------------------------------------------------------------------------------------------------------------------------------------------------------------------------------------------------------------------------------------------------------------------------------------------------------+-----------+-------------------------+-------------------------+-------------------------------------------------------------------------------------------------------------------------+----------------+-------------------------+--------------------------------------------------------------------------------------------------------------------------------------------------------------------------------------+--------------+----------------------------------------------------------------------------------------------------------------------------------------------------------------------------------------------------------+------------+------------+-------------------+----------------------+-------------------+-----------------------------------------------------------------------------+-----------------------------------------------------------------------------+-----------------------------------------------------------------------------------+-----------------------------------------------------------------------------------+---------------------------------------------------------------------------------+---------------------------------------------------------------------------------+--------------+----------------+-----------+--------------------+--------+------------------+-----------------+-----------------+------------------+----------------+----------------+------------------+------------------+-----------------+-------------------+-----------------+--------------------+-----------------+------------------+------------------+--------------------+------------------------+----------------+------------------------+----------------+----------------+-------------------------+--------------------------+-------------------------+------------------+---------------------+-------------------------+--------------------------------+---------------+-----------------+-----------------+--------------+----------------+------------------+--------------+----------------+------------------+-----------+-----------------+------------+------------+-------------+--------------+------------+------------+------------------+------------+-----------+------------+---------------+------------+-------------+-------------+----------+------------------+--------------------+-------------+-----------+-------------------+----------------+---------+---------------+-----------+------------+--------------+------------------+--------------+--------------+--------------+--------------+---------------+---------------+---------------+---------------+---------------+------------+----------------+-----------+---------------------+-----------+----------------+--------------+-------------+------------+---------------+---------+--------------+---------+-----------+--------------+-------------+-------------+-------------+---------------+-----------+-------------+------------+--------------------------+-------+---------------------------+---------------------------------+------------------------------------+-----------------------------------------------------+--------------------------------+----------+---------------+---------------------+---------------------------------------+-----------------------+-----------------------+-------------------+-------------------+------------+------------------+----------------+-------------+--------------+-------------+------------+------------+------------------------+\n",
      "|2.0 |http://world-en.openfoodfacts.org/product/00000002/filets-de-poulet-blanc-x2-solo      |kiliweb                   |1722606455|2024-08-02 16:47:35|1749171851     |2025-06-06 04:04:11   |altroconsumo    |1749171851    |2025-06-06 04:04:11  |Filets de poulet blanc x2     |NULL                    |NULL        |240-400 g|NULL     |NULL          |NULL        |NULL          |SoLo, selbstgemacht 2 Liter|xx:solo,xx:selbstgemacht-2-liter|solo,selbstgemacht-2-liter|Protein powders                                                 |en:dietary-supplements,en:bodybuilding-supplements,en:protein-powders|Dietary supplements,Bodybuilding supplements,Protein powders|île d’Orléans,Québec,Canada|en:canada,en:quebec,fr:ile-d-orleans|Canada,Québec,fr:ile-d-orleans|Ancenis             |ancenis                  |Organic, EU Organic, French meat, Bee Friendly, French poultry, AB Agriculture Biologique, en:no-additives                       |en:organic,en:eu-organic,en:french-meat,en:bee-friendly,en:french-poultry,en:no-additives,fr:ab-agriculture-biologique                           |Organic,EU Organic,French meat,Bee Friendly,French poultry,No additives,AB Agriculture Biologique                     |NULL     |NULL          |NULL                    |NULL  |NULL       |NULL           |NULL  |Brasilien, Germany               |en:brazil,en:germany                 |Brazil,Germany              |48% Tomatenpulver, Stärke, Zucker, jodiertes Speisesalz, WEIZENMEHL, Würze, Maiskeimöl, Kaliumchlorid, Kräuter (Basilikum, Thymian, Oregano), Hefeextrakt, Zwiebeln, Gewürze (Knoblauch, Pfeffer), Rote-Bete-Pulver, Aromen, Speisesalz. Kann ROGGEN, GERSTE, HAFER, EI, SOJA, MILCH, SELLERIE, SENF enthalten. Kochsalzersatz, gewonnen aus natürlichen Kaliummineralien. NUTRI-SCORE berechnet pro 100 g zubereitetes Gericht. Unilever Deutschland GmbH Konsumenten - Postfach 57 05 50 22774 Hamburg Ene Fett da Fe Kol da Ball Elw Salz 196 Erw service Tel.: 0800 5858 555 E (gebührenfrei) ww Unilever www.knorr.de|en:tomatenpulver,en:starke,en:zucker,en:jodiertes-speisesalz,en:weizenmehl,en:wurze,en:maiskeimol,en:kaliumchlorid,en:krauter,en:hefeextrakt,en:zwiebeln,en:gewurze,en:rote-bete-pulver,en:aromen,en:speisesalz,en:kann-roggen,en:gerste,en:hafer,en:ei,en:soya,en:milch,en:sellerie,en:senf-enthalten,en:kochsalzersatz,en:gewonnen-aus-naturlichen-kaliummineralien,en:nutri-score-berechnet-pro-100-g-zubereitetes-gericht,en:unilever-deutschland-gmbh-konsumenten,en:postfach-57-05-50-22774-hamburg-ene-fett-da-fe-kol-da-ball-elw-salz-196-erw-service-tel,en:basilikum,en:thymian,en:oregano,en:herb,en:knoblauch,en:pfeffer,en:0800-5858-555-e,en:ww-unilever-www-knorr-de,en:gebuhrenfrei|en:palm-oil-content-unknown,en:vegan-status-unknown,en:vegetarian-status-unknown|NULL               |NULL        |NULL  |NULL       |NULL     |35gm        |35.0            |NULL             |0          |NULL     |NULL          |NULL        |NULL            |not-applicable  |NULL      |unknown      |unknown      |NULL       |NULL            |NULL          |en:to-be-completed, en:nutrition-facts-completed, en:ingredients-completed, en:expiration-date-to-be-completed, en:packaging-code-to-be-completed, en:characteristics-to-be-completed, en:origins-completed, en:categories-completed, en:brands-completed, en:packaging-to-be-completed, en:quantity-completed, en:product-name-completed, en:photos-validated, en:packaging-photo-selected, en:nutrition-photo-selected, en:ingredients-photo-selected, en:front-photo-selected, en:photos-uploaded                                                                        |en:to-be-completed,en:nutrition-facts-completed,en:ingredients-completed,en:expiration-date-to-be-completed,en:packaging-code-to-be-completed,en:characteristics-to-be-completed,en:origins-completed,en:categories-completed,en:brands-completed,en:packaging-to-be-completed,en:quantity-completed,en:product-name-completed,en:photos-validated,en:packaging-photo-selected,en:nutrition-photo-selected,en:ingredients-photo-selected,en:front-photo-selected,en:photos-uploaded                                                                        |To be completed,Nutrition facts completed,Ingredients completed,Expiration date to be completed,Packaging code to be completed,Characteristics to be completed,Origins completed,Categories completed,Brands completed,Packaging to be completed,Quantity completed,Product name completed,Photos validated,Packaging photo selected,Nutrition photo selected,Ingredients photo selected,Front photo selected,Photos uploaded                                                                        |NULL       |NULL                     |unknown                  |en:fat-in-low-quantity,en:saturated-fat-in-low-quantity,en:sugars-in-moderate-quantity,en:salt-in-moderate-quantity      |400.0           |org-le-picoreur-bodin-bio|en:energy-value-in-kcal-does-not-match-value-in-kj,en:nutrition-sugars-plus-starch-greater-than-carbohydrates,en:energy-value-in-kj-does-not-match-value-computed-from-other-nutrients|1             |top-75-percent-scans-2024,top-80-percent-scans-2024,top-85-percent-scans-2024,top-90-percent-scans-2024,top-10000-in-scans-2024,top-50000-in-scans-2024,top-100000-in-scans-2024,top-country-in-scans-2024|0.8         |1749171849  |2025-06-06 04:04:09|en:protein-powders    |Protein powders    |https://images.openfoodfacts.org/images/products/invalid/front_en.120.400.jpg|https://images.openfoodfacts.org/images/products/invalid/front_en.120.200.jpg|https://images.openfoodfacts.org/images/products/invalid/ingredients_en.122.400.jpg|https://images.openfoodfacts.org/images/products/invalid/ingredients_en.122.200.jpg|https://images.openfoodfacts.org/images/products/invalid/nutrition_en.75.400.jpg |https://images.openfoodfacts.org/images/products/invalid/nutrition_en.75.200.jpg |392.0         |141.0           |392.0      |NULL                |2.7     |0.6               |NULL             |NULL             |NULL              |NULL            |NULL            |NULL              |NULL              |NULL             |NULL               |NULL             |NULL                |NULL             |NULL              |NULL              |NULL                |0.0                     |NULL            |0.0                     |NULL            |NULL            |NULL                     |NULL                      |NULL                     |NULL              |NULL                 |NULL                     |NULL                            |NULL           |NULL             |NULL             |NULL          |NULL            |NULL              |0.0           |0.0             |0.9               |6.2        |NULL             |NULL        |NULL        |NULL         |NULL          |NULL        |NULL        |NULL              |NULL        |NULL       |NULL        |NULL           |NULL        |NULL         |NULL         |2.2       |NULL              |NULL                |30.0         |NULL       |NULL               |NULL            |0.4      |NULL           |0.16       |NULL        |0.0           |NULL              |NULL          |NULL          |NULL          |0.0           |NULL           |NULL           |NULL           |NULL           |NULL           |NULL        |NULL            |NULL       |NULL                 |NULL       |NULL            |0.0           |NULL         |NULL        |NULL           |1.0E-4   |NULL          |NULL     |NULL       |NULL          |NULL         |NULL         |NULL         |NULL           |NULL       |NULL         |NULL        |NULL                      |NULL   |NULL                       |NULL                             |NULL                                |0.052506232193732                                    |NULL                            |NULL      |NULL           |NULL                 |NULL                                   |NULL                   |NULL                   |NULL               |NULL               |NULL        |NULL              |NULL            |NULL         |NULL          |NULL         |NULL        |NULL        |NULL                    |\n",
      "|3.0 |http://world-en.openfoodfacts.org/product/00000003                                     |openfoodfacts-contributors|1752485388|2025-07-14 12:29:48|1752485389     |2025-07-14 12:29:49   |NULL            |1752485389    |2025-07-14 12:29:49  |NULL                          |NULL                    |NULL        |NULL     |NULL     |NULL          |NULL        |NULL          |NULL                       |NULL                            |NULL                      |NULL                                                            |NULL                                                                 |NULL                                                        |NULL                       |NULL                                |NULL                          |NULL                |NULL                     |NULL                                                                                                                             |NULL                                                                                                                                             |NULL                                                                                                                  |NULL     |NULL          |NULL                    |NULL  |NULL       |NULL           |NULL  |en:France                        |en:france                            |France                      |NULL                                                                                                                                                                                                                                                                                                                                                                                                                                                                                                                                                                                                                      |NULL                                                                                                                                                                                                                                                                                                                                                                                                                                                                                                                                                                                                                                                                                               |NULL                                                                            |NULL               |NULL        |NULL  |NULL       |NULL     |NULL        |NULL            |NULL             |NULL       |NULL     |NULL          |NULL        |NULL            |NULL            |NULL      |NULL         |NULL         |NULL       |NULL            |NULL          |en:to-be-completed, en:nutrition-facts-to-be-completed, en:ingredients-to-be-completed, en:expiration-date-to-be-completed, en:packaging-code-to-be-completed, en:characteristics-to-be-completed, en:origins-to-be-completed, en:categories-to-be-completed, en:brands-to-be-completed, en:packaging-to-be-completed, en:quantity-to-be-completed, en:product-name-to-be-completed, en:photos-to-be-validated, en:packaging-photo-to-be-selected, en:nutrition-photo-to-be-selected, en:ingredients-photo-to-be-selected, en:front-photo-to-be-selected, en:photos-uploaded|en:to-be-completed,en:nutrition-facts-to-be-completed,en:ingredients-to-be-completed,en:expiration-date-to-be-completed,en:packaging-code-to-be-completed,en:characteristics-to-be-completed,en:origins-to-be-completed,en:categories-to-be-completed,en:brands-to-be-completed,en:packaging-to-be-completed,en:quantity-to-be-completed,en:product-name-to-be-completed,en:photos-to-be-validated,en:packaging-photo-to-be-selected,en:nutrition-photo-to-be-selected,en:ingredients-photo-to-be-selected,en:front-photo-to-be-selected,en:photos-uploaded|To be completed,Nutrition facts to be completed,Ingredients to be completed,Expiration date to be completed,Packaging code to be completed,Characteristics to be completed,Origins to be completed,Categories to be completed,Brands to be completed,Packaging to be completed,Quantity to be completed,Product name to be completed,Photos to be validated,Packaging photo to be selected,Nutrition photo to be selected,Ingredients photo to be selected,Front photo to be selected,Photos uploaded|NULL       |NULL                     |NULL                     |NULL                                                                                                                     |NULL            |NULL                     |NULL                                                                                                                                                                                  |NULL          |NULL                                                                                                                                                                                                      |0.05        |1752485389  |2025-07-14 12:29:49|NULL                  |NULL               |NULL                                                                         |NULL                                                                         |NULL                                                                               |NULL                                                                               |NULL                                                                             |NULL                                                                             |NULL          |NULL            |NULL       |NULL                |NULL    |NULL              |NULL             |NULL             |NULL              |NULL            |NULL            |NULL              |NULL              |NULL             |NULL               |NULL             |NULL                |NULL             |NULL              |NULL              |NULL                |NULL                    |NULL            |NULL                    |NULL            |NULL            |NULL                     |NULL                      |NULL                     |NULL              |NULL                 |NULL                     |NULL                            |NULL           |NULL             |NULL             |NULL          |NULL            |NULL              |NULL          |NULL            |NULL              |NULL       |NULL             |NULL        |NULL        |NULL         |NULL          |NULL        |NULL        |NULL              |NULL        |NULL       |NULL        |NULL           |NULL        |NULL         |NULL         |NULL      |NULL              |NULL                |NULL         |NULL       |NULL               |NULL            |NULL     |NULL           |NULL       |NULL        |NULL          |NULL              |NULL          |NULL          |NULL          |NULL          |NULL           |NULL           |NULL           |NULL           |NULL           |NULL        |NULL            |NULL       |NULL                 |NULL       |NULL            |NULL          |NULL         |NULL        |NULL           |NULL     |NULL          |NULL     |NULL       |NULL          |NULL         |NULL         |NULL         |NULL           |NULL       |NULL         |NULL        |NULL                      |NULL   |NULL                       |NULL                             |NULL                                |NULL                                                 |NULL                            |NULL      |NULL           |NULL                 |NULL                                   |NULL                   |NULL                   |NULL               |NULL               |NULL        |NULL              |NULL            |NULL         |NULL          |NULL         |NULL        |NULL        |NULL                    |\n",
      "|4.0 |http://world-en.openfoodfacts.org/product/00000004/entrecoesteack-highland-beef-pg-tips|elcoco                    |1560176426|2019-06-10 17:20:26|1748094869     |2025-05-24 16:54:29   |smoothie-app    |1748094869    |2025-05-24 16:54:29  |Entrecôesteack - Highland Beef|NULL                    |NULL        |1000g    |Glas     |en:glass      |Glass       |NULL          |PG Tips, green organic     |xx:pg-tips,xx:green-organic     |pg-tips,green-organic     |Nutrition drink mix                                             |en:nutrition-drink-mix                                               |Nutrition-drink-mix                                         |Nizozemsko,Peru            |en:netherlands,en:peru              |Netherlands,Peru              |NULL                |NULL                     |Fair trade, Organic, EU Organic, Certified B Corporation, CH-BIO-006, FSC, FSC Mix, Soil Association Organic, en:no-preservatives|en:fair-trade,en:organic,en:eu-organic,en:no-preservatives,en:certified-b-corporation,en:ch-bio-006,en:fsc,en:fsc-mix,en:soil-association-organic|Fair trade,Organic,EU Organic,No preservatives,Certified B Corporation,CH-BIO-006,FSC,FSC Mix,Soil Association Organic|NULL     |NULL          |NULL                    |NULL  |NULL       |United Kingdom |Amazon|Brasilien, Germany               |en:brazil,en:germany                 |Brazil,Germany              |Organic Ashwagandha KSM-66, Vegetable Capsule Shell (HydroxyPropylMethyl Cellulose), Organic Black Pepper.                                                                                                                                                                                                                                                                                                                                                                                                                                                                                                                |es:organic-ashwagandha-ksm-66,es:vegetable-capsule-shell,es:organic-black-pepper,es:hydroxypropylmethyl-cellulose                                                                                                                                                                                                                                                                                                                                                                                                                                                                                                                                                                                  |en:palm-oil-content-unknown,en:vegan-status-unknown,en:vegetarian-status-unknown|en:nuts,en:soybeans|NULL        |NULL  |NULL       |NULL     |0g          |0.0             |NULL             |0          |NULL     |NULL          |NULL        |15              |d               |NULL      |unknown      |unknown      |NULL       |NULL            |NULL          |en:to-be-completed, en:nutrition-facts-completed, en:ingredients-completed, en:expiration-date-to-be-completed, en:packaging-code-to-be-completed, en:characteristics-completed, en:origins-completed, en:categories-completed, en:brands-completed, en:packaging-completed, en:quantity-completed, en:product-name-completed, en:photos-to-be-validated, en:packaging-photo-to-be-selected, en:nutrition-photo-selected, en:ingredients-photo-selected, en:front-photo-selected, en:photos-uploaded                                                                        |en:to-be-completed,en:nutrition-facts-completed,en:ingredients-completed,en:expiration-date-to-be-completed,en:packaging-code-to-be-completed,en:characteristics-completed,en:origins-completed,en:categories-completed,en:brands-completed,en:packaging-completed,en:quantity-completed,en:product-name-completed,en:photos-to-be-validated,en:packaging-photo-to-be-selected,en:nutrition-photo-selected,en:ingredients-photo-selected,en:front-photo-selected,en:photos-uploaded                                                                        |To be completed,Nutrition facts completed,Ingredients completed,Expiration date to be completed,Packaging code to be completed,Characteristics completed,Origins completed,Categories completed,Brands completed,Packaging completed,Quantity completed,Product name completed,Photos to be validated,Packaging photo to be selected,Nutrition photo selected,Ingredients photo selected,Front photo selected,Photos uploaded                                                                        |NULL       |NULL                     |unknown                  |en:fat-in-moderate-quantity,en:saturated-fat-in-high-quantity,en:sugars-in-moderate-quantity,en:salt-in-moderate-quantity|1000.0          |NULL                     |en:energy-value-in-kcal-does-not-match-value-in-kj,en:energy-value-in-kj-does-not-match-value-computed-from-other-nutrients                                                           |1             |top-75-percent-scans-2024,top-80-percent-scans-2024,top-85-percent-scans-2024,top-90-percent-scans-2024,top-50000-ch-scans-2024,top-100000-ch-scans-2024,top-country-ch-scans-2024                        |0.8875      |1748094869  |2025-05-24 16:54:29|en:nutrition-drink-mix|Nutrition-drink-mix|https://images.openfoodfacts.org/images/products/invalid/front_en.135.400.jpg|https://images.openfoodfacts.org/images/products/invalid/front_en.135.200.jpg|https://images.openfoodfacts.org/images/products/invalid/ingredients_en.121.400.jpg|https://images.openfoodfacts.org/images/products/invalid/ingredients_en.121.200.jpg|https://images.openfoodfacts.org/images/products/invalid/nutrition_en.118.400.jpg|https://images.openfoodfacts.org/images/products/invalid/nutrition_en.118.200.jpg|2401.0        |324.0           |2401.0     |NULL                |12.0    |10.5              |NULL             |NULL             |NULL              |NULL            |NULL            |NULL              |NULL              |NULL             |NULL               |NULL             |NULL                |NULL             |NULL              |NULL              |NULL                |NULL                    |NULL            |NULL                    |NULL            |NULL            |NULL                     |NULL                      |NULL                     |NULL              |NULL                 |NULL                     |NULL                            |NULL           |NULL             |NULL             |NULL          |NULL            |NULL              |0.0           |0.0             |13.0              |9.0        |NULL             |NULL        |NULL        |NULL         |NULL          |NULL        |NULL        |NULL              |NULL        |NULL       |NULL        |NULL           |NULL        |NULL         |NULL         |36.0      |NULL              |NULL                |23.0         |NULL       |NULL               |NULL            |0.3      |NULL           |0.12       |NULL        |NULL          |NULL              |NULL          |NULL          |NULL          |NULL          |NULL           |NULL           |NULL           |NULL           |NULL           |NULL        |NULL            |NULL       |NULL                 |NULL       |NULL            |NULL          |NULL         |NULL        |NULL           |NULL     |NULL          |NULL     |NULL       |NULL          |NULL         |NULL         |NULL         |NULL           |NULL       |NULL         |NULL        |NULL                      |NULL   |NULL                       |NULL                             |NULL                                |0.0                                                  |NULL                            |NULL      |NULL           |NULL                 |NULL                                   |15                     |NULL                   |NULL               |NULL               |NULL        |NULL              |NULL            |NULL         |NULL          |NULL         |NULL        |NULL        |NULL                    |\n",
      "|5.0 |http://world-en.openfoodfacts.org/product/00000005                                     |openfoodfacts-contributors|1754314021|2025-08-04 16:27:01|1754314023     |2025-08-04 16:27:03   |NULL            |1754314023    |2025-08-04 16:27:03  |NULL                          |NULL                    |NULL        |NULL     |NULL     |NULL          |NULL        |NULL          |NULL                       |NULL                            |NULL                      |NULL                                                            |NULL                                                                 |NULL                                                        |NULL                       |NULL                                |NULL                          |NULL                |NULL                     |NULL                                                                                                                             |NULL                                                                                                                                             |NULL                                                                                                                  |NULL     |NULL          |NULL                    |NULL  |NULL       |NULL           |NULL  |en:France                        |en:france                            |France                      |NULL                                                                                                                                                                                                                                                                                                                                                                                                                                                                                                                                                                                                                      |NULL                                                                                                                                                                                                                                                                                                                                                                                                                                                                                                                                                                                                                                                                                               |NULL                                                                            |NULL               |NULL        |NULL  |NULL       |NULL     |NULL        |NULL            |NULL             |NULL       |NULL     |NULL          |NULL        |NULL            |NULL            |NULL      |NULL         |NULL         |NULL       |NULL            |NULL          |en:to-be-completed, en:nutrition-facts-to-be-completed, en:ingredients-to-be-completed, en:expiration-date-to-be-completed, en:packaging-code-to-be-completed, en:characteristics-to-be-completed, en:origins-to-be-completed, en:categories-to-be-completed, en:brands-to-be-completed, en:packaging-to-be-completed, en:quantity-to-be-completed, en:product-name-to-be-completed, en:photos-to-be-validated, en:packaging-photo-to-be-selected, en:nutrition-photo-to-be-selected, en:ingredients-photo-to-be-selected, en:front-photo-to-be-selected, en:photos-uploaded|en:to-be-completed,en:nutrition-facts-to-be-completed,en:ingredients-to-be-completed,en:expiration-date-to-be-completed,en:packaging-code-to-be-completed,en:characteristics-to-be-completed,en:origins-to-be-completed,en:categories-to-be-completed,en:brands-to-be-completed,en:packaging-to-be-completed,en:quantity-to-be-completed,en:product-name-to-be-completed,en:photos-to-be-validated,en:packaging-photo-to-be-selected,en:nutrition-photo-to-be-selected,en:ingredients-photo-to-be-selected,en:front-photo-to-be-selected,en:photos-uploaded|To be completed,Nutrition facts to be completed,Ingredients to be completed,Expiration date to be completed,Packaging code to be completed,Characteristics to be completed,Origins to be completed,Categories to be completed,Brands to be completed,Packaging to be completed,Quantity to be completed,Product name to be completed,Photos to be validated,Packaging photo to be selected,Nutrition photo to be selected,Ingredients photo to be selected,Front photo to be selected,Photos uploaded|NULL       |NULL                     |NULL                     |NULL                                                                                                                     |NULL            |NULL                     |NULL                                                                                                                                                                                  |NULL          |NULL                                                                                                                                                                                                      |0.05        |1754314023  |2025-08-04 16:27:03|NULL                  |NULL               |NULL                                                                         |NULL                                                                         |NULL                                                                               |NULL                                                                               |NULL                                                                             |NULL                                                                             |NULL          |NULL            |NULL       |NULL                |NULL    |NULL              |NULL             |NULL             |NULL              |NULL            |NULL            |NULL              |NULL              |NULL             |NULL               |NULL             |NULL                |NULL             |NULL              |NULL              |NULL                |NULL                    |NULL            |NULL                    |NULL            |NULL            |NULL                     |NULL                      |NULL                     |NULL              |NULL                 |NULL                     |NULL                            |NULL           |NULL             |NULL             |NULL          |NULL            |NULL              |NULL          |NULL            |NULL              |NULL       |NULL             |NULL        |NULL        |NULL         |NULL          |NULL        |NULL        |NULL              |NULL        |NULL       |NULL        |NULL           |NULL        |NULL         |NULL         |NULL      |NULL              |NULL                |NULL         |NULL       |NULL               |NULL            |NULL     |NULL           |NULL       |NULL        |NULL          |NULL              |NULL          |NULL          |NULL          |NULL          |NULL           |NULL           |NULL           |NULL           |NULL           |NULL        |NULL            |NULL       |NULL                 |NULL       |NULL            |NULL          |NULL         |NULL        |NULL           |NULL     |NULL          |NULL     |NULL       |NULL          |NULL         |NULL         |NULL         |NULL           |NULL       |NULL         |NULL        |NULL                      |NULL   |NULL                       |NULL                             |NULL                                |NULL                                                 |NULL                            |NULL      |NULL           |NULL                 |NULL                                   |NULL                   |NULL                   |NULL               |NULL               |NULL        |NULL              |NULL            |NULL         |NULL          |NULL         |NULL        |NULL        |NULL                    |\n",
      "|6.0 |http://world-en.openfoodfacts.org/product/00000006/triple-cheese-puff                  |maldan                    |1732037972|2024-11-19 20:39:32|1749357659     |2025-06-08 07:40:59   |smoothie-app    |1749357659    |2025-06-08 07:40:59  |Triple cheese puff            |NULL                    |NULL        |500g     |NULL     |NULL          |NULL        |NULL          |NULL                       |NULL                            |NULL                      |Boissons et préparations de boissons, Boissons, en:cinnamon roll|en:beverages-and-beverages-preparations,en:beverages,en:cinnamon-roll|Beverages and beverages preparations,Beverages,Cinnamon-roll|NULL                       |NULL                                |NULL                          |NULL                |NULL                     |NULL                                                                                                                             |NULL                                                                                                                                             |NULL                                                                                                                  |NULL     |NULL          |NULL                    |NULL  |NULL       |NULL           |NULL  |Germany, United States, en:france|en:france,en:germany,en:united-states|France,Germany,United States|NULL                                                                                                                                                                                                                                                                                                                                                                                                                                                                                                                                                                                                                      |NULL                                                                                                                                                                                                                                                                                                                                                                                                                                                                                                                                                                                                                                                                                               |NULL                                                                            |NULL               |NULL        |NULL  |NULL       |NULL     |100 g       |100.0           |NULL             |NULL       |NULL     |NULL          |NULL        |4               |c               |NULL      |unknown      |unknown      |NULL       |NULL            |NULL          |en:to-be-completed, en:nutrition-facts-completed, en:ingredients-to-be-completed, en:expiration-date-to-be-completed, en:packaging-code-to-be-completed, en:characteristics-to-be-completed, en:origins-to-be-completed, en:categories-completed, en:brands-to-be-completed, en:packaging-to-be-completed, en:quantity-completed, en:product-name-completed, en:photos-to-be-validated, en:packaging-photo-to-be-selected, en:nutrition-photo-selected, en:ingredients-photo-selected, en:front-photo-selected, en:photos-uploaded                                          |en:to-be-completed,en:nutrition-facts-completed,en:ingredients-to-be-completed,en:expiration-date-to-be-completed,en:packaging-code-to-be-completed,en:characteristics-to-be-completed,en:origins-to-be-completed,en:categories-completed,en:brands-to-be-completed,en:packaging-to-be-completed,en:quantity-completed,en:product-name-completed,en:photos-to-be-validated,en:packaging-photo-to-be-selected,en:nutrition-photo-selected,en:ingredients-photo-selected,en:front-photo-selected,en:photos-uploaded                                          |To be completed,Nutrition facts completed,Ingredients to be completed,Expiration date to be completed,Packaging code to be completed,Characteristics to be completed,Origins to be completed,Categories completed,Brands to be completed,Packaging to be completed,Quantity completed,Product name completed,Photos to be validated,Packaging photo to be selected,Nutrition photo selected,Ingredients photo selected,Front photo selected,Photos uploaded                                          |NULL       |NULL                     |unknown                  |en:fat-in-high-quantity,en:saturated-fat-in-moderate-quantity,en:sugars-in-low-quantity,en:salt-in-high-quantity         |500.0           |NULL                     |NULL                                                                                                                                                                                  |1             |top-75-percent-scans-2024,top-80-percent-scans-2024,top-85-percent-scans-2024,top-90-percent-scans-2024,top-50000-ma-scans-2024,top-100000-ma-scans-2024,top-country-ma-scans-2024                        |0.4875      |1749357657  |2025-06-08 07:40:57|en:cinnamon-roll      |Cinnamon-roll      |https://images.openfoodfacts.org/images/products/invalid/front_en.149.400.jpg|https://images.openfoodfacts.org/images/products/invalid/front_en.149.200.jpg|https://images.openfoodfacts.org/images/products/invalid/ingredients_en.151.400.jpg|https://images.openfoodfacts.org/images/products/invalid/ingredients_en.151.200.jpg|https://images.openfoodfacts.org/images/products/invalid/nutrition_en.116.400.jpg|https://images.openfoodfacts.org/images/products/invalid/nutrition_en.116.200.jpg|NULL          |363.0           |1520.0     |NULL                |11.0    |2.0               |NULL             |NULL             |NULL              |NULL            |NULL            |NULL              |NULL              |NULL             |NULL               |NULL             |NULL                |NULL             |NULL              |NULL              |NULL                |NULL                    |NULL            |NULL                    |NULL            |NULL            |NULL                     |NULL                      |NULL                     |NULL              |NULL                 |NULL                     |NULL                            |NULL           |NULL             |NULL             |NULL          |NULL            |NULL              |0.0           |0.01            |25.0              |0.98       |0.0              |NULL        |NULL        |NULL         |NULL          |NULL        |NULL        |NULL              |NULL        |NULL       |NULL        |NULL           |NULL        |NULL         |NULL         |9.0       |NULL              |NULL                |22.0         |NULL       |NULL               |NULL            |0.95     |NULL           |0.38       |0.0         |NULL          |NULL              |0.0           |NULL          |NULL          |NULL          |NULL           |NULL           |NULL           |NULL           |NULL           |NULL        |NULL            |NULL       |NULL                 |NULL       |NULL            |NULL          |NULL         |NULL        |NULL           |NULL     |NULL          |NULL     |NULL       |NULL          |NULL         |NULL         |NULL         |NULL           |NULL       |NULL         |NULL        |NULL                      |NULL   |NULL                       |NULL                             |NULL                                |NULL                                                 |NULL                            |NULL      |NULL           |NULL                 |NULL                                   |4                      |NULL                   |NULL               |NULL               |NULL        |NULL              |NULL            |NULL         |NULL          |NULL         |NULL        |NULL        |NULL                    |\n",
      "+----+---------------------------------------------------------------------------------------+--------------------------+----------+-------------------+---------------+----------------------+----------------+--------------+---------------------+------------------------------+------------------------+------------+---------+---------+--------------+------------+--------------+---------------------------+--------------------------------+--------------------------+----------------------------------------------------------------+---------------------------------------------------------------------+------------------------------------------------------------+---------------------------+------------------------------------+------------------------------+--------------------+-------------------------+---------------------------------------------------------------------------------------------------------------------------------+-------------------------------------------------------------------------------------------------------------------------------------------------+----------------------------------------------------------------------------------------------------------------------+---------+--------------+------------------------+------+-----------+---------------+------+---------------------------------+-------------------------------------+----------------------------+--------------------------------------------------------------------------------------------------------------------------------------------------------------------------------------------------------------------------------------------------------------------------------------------------------------------------------------------------------------------------------------------------------------------------------------------------------------------------------------------------------------------------------------------------------------------------------------------------------------------------+---------------------------------------------------------------------------------------------------------------------------------------------------------------------------------------------------------------------------------------------------------------------------------------------------------------------------------------------------------------------------------------------------------------------------------------------------------------------------------------------------------------------------------------------------------------------------------------------------------------------------------------------------------------------------------------------------+--------------------------------------------------------------------------------+-------------------+------------+------+-----------+---------+------------+----------------+-----------------+-----------+---------+--------------+------------+----------------+----------------+----------+-------------+-------------+-----------+----------------+--------------+----------------------------------------------------------------------------------------------------------------------------------------------------------------------------------------------------------------------------------------------------------------------------------------------------------------------------------------------------------------------------------------------------------------------------------------------------------------------------------------------------------------------------------------------------------------------------+-----------------------------------------------------------------------------------------------------------------------------------------------------------------------------------------------------------------------------------------------------------------------------------------------------------------------------------------------------------------------------------------------------------------------------------------------------------------------------------------------------------------------------------------------------------+-----------------------------------------------------------------------------------------------------------------------------------------------------------------------------------------------------------------------------------------------------------------------------------------------------------------------------------------------------------------------------------------------------------------------------------------------------------------------------------------------------+-----------+-------------------------+-------------------------+-------------------------------------------------------------------------------------------------------------------------+----------------+-------------------------+--------------------------------------------------------------------------------------------------------------------------------------------------------------------------------------+--------------+----------------------------------------------------------------------------------------------------------------------------------------------------------------------------------------------------------+------------+------------+-------------------+----------------------+-------------------+-----------------------------------------------------------------------------+-----------------------------------------------------------------------------+-----------------------------------------------------------------------------------+-----------------------------------------------------------------------------------+---------------------------------------------------------------------------------+---------------------------------------------------------------------------------+--------------+----------------+-----------+--------------------+--------+------------------+-----------------+-----------------+------------------+----------------+----------------+------------------+------------------+-----------------+-------------------+-----------------+--------------------+-----------------+------------------+------------------+--------------------+------------------------+----------------+------------------------+----------------+----------------+-------------------------+--------------------------+-------------------------+------------------+---------------------+-------------------------+--------------------------------+---------------+-----------------+-----------------+--------------+----------------+------------------+--------------+----------------+------------------+-----------+-----------------+------------+------------+-------------+--------------+------------+------------+------------------+------------+-----------+------------+---------------+------------+-------------+-------------+----------+------------------+--------------------+-------------+-----------+-------------------+----------------+---------+---------------+-----------+------------+--------------+------------------+--------------+--------------+--------------+--------------+---------------+---------------+---------------+---------------+---------------+------------+----------------+-----------+---------------------+-----------+----------------+--------------+-------------+------------+---------------+---------+--------------+---------+-----------+--------------+-------------+-------------+-------------+---------------+-----------+-------------+------------+--------------------------+-------+---------------------------+---------------------------------+------------------------------------+-----------------------------------------------------+--------------------------------+----------+---------------+---------------------+---------------------------------------+-----------------------+-----------------------+-------------------+-------------------+------------+------------------+----------------+-------------+--------------+-------------+------------+------------+------------------------+\n",
      "only showing top 5 rows\n",
      "root\n",
      " |-- code: double (nullable = true)\n",
      " |-- url: string (nullable = true)\n",
      " |-- creator: string (nullable = true)\n",
      " |-- created_t: integer (nullable = true)\n",
      " |-- created_datetime: timestamp (nullable = true)\n",
      " |-- last_modified_t: integer (nullable = true)\n",
      " |-- last_modified_datetime: timestamp (nullable = true)\n",
      " |-- last_modified_by: string (nullable = true)\n",
      " |-- last_updated_t: integer (nullable = true)\n",
      " |-- last_updated_datetime: timestamp (nullable = true)\n",
      " |-- product_name: string (nullable = true)\n",
      " |-- abbreviated_product_name: string (nullable = true)\n",
      " |-- generic_name: string (nullable = true)\n",
      " |-- quantity: string (nullable = true)\n",
      " |-- packaging: string (nullable = true)\n",
      " |-- packaging_tags: string (nullable = true)\n",
      " |-- packaging_en: string (nullable = true)\n",
      " |-- packaging_text: string (nullable = true)\n",
      " |-- brands: string (nullable = true)\n",
      " |-- brands_tags: string (nullable = true)\n",
      " |-- brands_en: string (nullable = true)\n",
      " |-- categories: string (nullable = true)\n",
      " |-- categories_tags: string (nullable = true)\n",
      " |-- categories_en: string (nullable = true)\n",
      " |-- origins: string (nullable = true)\n",
      " |-- origins_tags: string (nullable = true)\n",
      " |-- origins_en: string (nullable = true)\n",
      " |-- manufacturing_places: string (nullable = true)\n",
      " |-- manufacturing_places_tags: string (nullable = true)\n",
      " |-- labels: string (nullable = true)\n",
      " |-- labels_tags: string (nullable = true)\n",
      " |-- labels_en: string (nullable = true)\n",
      " |-- emb_codes: string (nullable = true)\n",
      " |-- emb_codes_tags: string (nullable = true)\n",
      " |-- first_packaging_code_geo: string (nullable = true)\n",
      " |-- cities: string (nullable = true)\n",
      " |-- cities_tags: string (nullable = true)\n",
      " |-- purchase_places: string (nullable = true)\n",
      " |-- stores: string (nullable = true)\n",
      " |-- countries: string (nullable = true)\n",
      " |-- countries_tags: string (nullable = true)\n",
      " |-- countries_en: string (nullable = true)\n",
      " |-- ingredients_text: string (nullable = true)\n",
      " |-- ingredients_tags: string (nullable = true)\n",
      " |-- ingredients_analysis_tags: string (nullable = true)\n",
      " |-- allergens: string (nullable = true)\n",
      " |-- allergens_en: string (nullable = true)\n",
      " |-- traces: string (nullable = true)\n",
      " |-- traces_tags: string (nullable = true)\n",
      " |-- traces_en: string (nullable = true)\n",
      " |-- serving_size: string (nullable = true)\n",
      " |-- serving_quantity: double (nullable = true)\n",
      " |-- no_nutrition_data: string (nullable = true)\n",
      " |-- additives_n: integer (nullable = true)\n",
      " |-- additives: string (nullable = true)\n",
      " |-- additives_tags: string (nullable = true)\n",
      " |-- additives_en: string (nullable = true)\n",
      " |-- nutriscore_score: integer (nullable = true)\n",
      " |-- nutriscore_grade: string (nullable = true)\n",
      " |-- nova_group: integer (nullable = true)\n",
      " |-- pnns_groups_1: string (nullable = true)\n",
      " |-- pnns_groups_2: string (nullable = true)\n",
      " |-- food_groups: string (nullable = true)\n",
      " |-- food_groups_tags: string (nullable = true)\n",
      " |-- food_groups_en: string (nullable = true)\n",
      " |-- states: string (nullable = true)\n",
      " |-- states_tags: string (nullable = true)\n",
      " |-- states_en: string (nullable = true)\n",
      " |-- brand_owner: string (nullable = true)\n",
      " |-- environmental_score_score: integer (nullable = true)\n",
      " |-- environmental_score_grade: string (nullable = true)\n",
      " |-- nutrient_levels_tags: string (nullable = true)\n",
      " |-- product_quantity: double (nullable = true)\n",
      " |-- owner: string (nullable = true)\n",
      " |-- data_quality_errors_tags: string (nullable = true)\n",
      " |-- unique_scans_n: integer (nullable = true)\n",
      " |-- popularity_tags: string (nullable = true)\n",
      " |-- completeness: double (nullable = true)\n",
      " |-- last_image_t: integer (nullable = true)\n",
      " |-- last_image_datetime: timestamp (nullable = true)\n",
      " |-- main_category: string (nullable = true)\n",
      " |-- main_category_en: string (nullable = true)\n",
      " |-- image_url: string (nullable = true)\n",
      " |-- image_small_url: string (nullable = true)\n",
      " |-- image_ingredients_url: string (nullable = true)\n",
      " |-- image_ingredients_small_url: string (nullable = true)\n",
      " |-- image_nutrition_url: string (nullable = true)\n",
      " |-- image_nutrition_small_url: string (nullable = true)\n",
      " |-- energy-kj_100g: double (nullable = true)\n",
      " |-- energy-kcal_100g: double (nullable = true)\n",
      " |-- energy_100g: double (nullable = true)\n",
      " |-- energy-from-fat_100g: double (nullable = true)\n",
      " |-- fat_100g: double (nullable = true)\n",
      " |-- saturated-fat_100g: double (nullable = true)\n",
      " |-- butyric-acid_100g: double (nullable = true)\n",
      " |-- caproic-acid_100g: double (nullable = true)\n",
      " |-- caprylic-acid_100g: double (nullable = true)\n",
      " |-- capric-acid_100g: double (nullable = true)\n",
      " |-- lauric-acid_100g: double (nullable = true)\n",
      " |-- myristic-acid_100g: double (nullable = true)\n",
      " |-- palmitic-acid_100g: double (nullable = true)\n",
      " |-- stearic-acid_100g: double (nullable = true)\n",
      " |-- arachidic-acid_100g: double (nullable = true)\n",
      " |-- behenic-acid_100g: double (nullable = true)\n",
      " |-- lignoceric-acid_100g: double (nullable = true)\n",
      " |-- cerotic-acid_100g: double (nullable = true)\n",
      " |-- montanic-acid_100g: double (nullable = true)\n",
      " |-- melissic-acid_100g: double (nullable = true)\n",
      " |-- unsaturated-fat_100g: double (nullable = true)\n",
      " |-- monounsaturated-fat_100g: double (nullable = true)\n",
      " |-- omega-9-fat_100g: double (nullable = true)\n",
      " |-- polyunsaturated-fat_100g: double (nullable = true)\n",
      " |-- omega-3-fat_100g: double (nullable = true)\n",
      " |-- omega-6-fat_100g: double (nullable = true)\n",
      " |-- alpha-linolenic-acid_100g: double (nullable = true)\n",
      " |-- eicosapentaenoic-acid_100g: double (nullable = true)\n",
      " |-- docosahexaenoic-acid_100g: double (nullable = true)\n",
      " |-- linoleic-acid_100g: double (nullable = true)\n",
      " |-- arachidonic-acid_100g: double (nullable = true)\n",
      " |-- gamma-linolenic-acid_100g: double (nullable = true)\n",
      " |-- dihomo-gamma-linolenic-acid_100g: double (nullable = true)\n",
      " |-- oleic-acid_100g: double (nullable = true)\n",
      " |-- elaidic-acid_100g: double (nullable = true)\n",
      " |-- gondoic-acid_100g: double (nullable = true)\n",
      " |-- mead-acid_100g: double (nullable = true)\n",
      " |-- erucic-acid_100g: double (nullable = true)\n",
      " |-- nervonic-acid_100g: double (nullable = true)\n",
      " |-- trans-fat_100g: double (nullable = true)\n",
      " |-- cholesterol_100g: double (nullable = true)\n",
      " |-- carbohydrates_100g: double (nullable = true)\n",
      " |-- sugars_100g: double (nullable = true)\n",
      " |-- added-sugars_100g: double (nullable = true)\n",
      " |-- sucrose_100g: double (nullable = true)\n",
      " |-- glucose_100g: double (nullable = true)\n",
      " |-- fructose_100g: double (nullable = true)\n",
      " |-- galactose_100g: double (nullable = true)\n",
      " |-- lactose_100g: double (nullable = true)\n",
      " |-- maltose_100g: double (nullable = true)\n",
      " |-- maltodextrins_100g: double (nullable = true)\n",
      " |-- psicose_100g: string (nullable = true)\n",
      " |-- starch_100g: double (nullable = true)\n",
      " |-- polyols_100g: double (nullable = true)\n",
      " |-- erythritol_100g: double (nullable = true)\n",
      " |-- isomalt_100g: string (nullable = true)\n",
      " |-- maltitol_100g: double (nullable = true)\n",
      " |-- sorbitol_100g: double (nullable = true)\n",
      " |-- fiber_100g: double (nullable = true)\n",
      " |-- soluble-fiber_100g: double (nullable = true)\n",
      " |-- insoluble-fiber_100g: double (nullable = true)\n",
      " |-- proteins_100g: double (nullable = true)\n",
      " |-- casein_100g: double (nullable = true)\n",
      " |-- serum-proteins_100g: double (nullable = true)\n",
      " |-- nucleotides_100g: double (nullable = true)\n",
      " |-- salt_100g: double (nullable = true)\n",
      " |-- added-salt_100g: double (nullable = true)\n",
      " |-- sodium_100g: double (nullable = true)\n",
      " |-- alcohol_100g: double (nullable = true)\n",
      " |-- vitamin-a_100g: double (nullable = true)\n",
      " |-- beta-carotene_100g: double (nullable = true)\n",
      " |-- vitamin-d_100g: double (nullable = true)\n",
      " |-- vitamin-e_100g: double (nullable = true)\n",
      " |-- vitamin-k_100g: double (nullable = true)\n",
      " |-- vitamin-c_100g: double (nullable = true)\n",
      " |-- vitamin-b1_100g: double (nullable = true)\n",
      " |-- vitamin-b2_100g: double (nullable = true)\n",
      " |-- vitamin-pp_100g: double (nullable = true)\n",
      " |-- vitamin-b6_100g: double (nullable = true)\n",
      " |-- vitamin-b9_100g: double (nullable = true)\n",
      " |-- folates_100g: double (nullable = true)\n",
      " |-- vitamin-b12_100g: double (nullable = true)\n",
      " |-- biotin_100g: double (nullable = true)\n",
      " |-- pantothenic-acid_100g: double (nullable = true)\n",
      " |-- silica_100g: double (nullable = true)\n",
      " |-- bicarbonate_100g: double (nullable = true)\n",
      " |-- potassium_100g: double (nullable = true)\n",
      " |-- chloride_100g: double (nullable = true)\n",
      " |-- calcium_100g: double (nullable = true)\n",
      " |-- phosphorus_100g: double (nullable = true)\n",
      " |-- iron_100g: double (nullable = true)\n",
      " |-- magnesium_100g: double (nullable = true)\n",
      " |-- zinc_100g: double (nullable = true)\n",
      " |-- copper_100g: double (nullable = true)\n",
      " |-- manganese_100g: double (nullable = true)\n",
      " |-- fluoride_100g: double (nullable = true)\n",
      " |-- selenium_100g: double (nullable = true)\n",
      " |-- chromium_100g: double (nullable = true)\n",
      " |-- molybdenum_100g: double (nullable = true)\n",
      " |-- iodine_100g: double (nullable = true)\n",
      " |-- caffeine_100g: double (nullable = true)\n",
      " |-- taurine_100g: double (nullable = true)\n",
      " |-- methylsulfonylmethane_100g: string (nullable = true)\n",
      " |-- ph_100g: double (nullable = true)\n",
      " |-- fruits-vegetables-nuts_100g: double (nullable = true)\n",
      " |-- fruits-vegetables-nuts-dried_100g: double (nullable = true)\n",
      " |-- fruits-vegetables-nuts-estimate_100g: double (nullable = true)\n",
      " |-- fruits-vegetables-nuts-estimate-from-ingredients_100g: double (nullable = true)\n",
      " |-- collagen-meat-protein-ratio_100g: double (nullable = true)\n",
      " |-- cocoa_100g: double (nullable = true)\n",
      " |-- chlorophyl_100g: double (nullable = true)\n",
      " |-- carbon-footprint_100g: double (nullable = true)\n",
      " |-- carbon-footprint-from-meat-or-fish_100g: double (nullable = true)\n",
      " |-- nutrition-score-fr_100g: integer (nullable = true)\n",
      " |-- nutrition-score-uk_100g: string (nullable = true)\n",
      " |-- glycemic-index_100g: double (nullable = true)\n",
      " |-- water-hardness_100g: double (nullable = true)\n",
      " |-- choline_100g: double (nullable = true)\n",
      " |-- phylloquinone_100g: double (nullable = true)\n",
      " |-- beta-glucan_100g: double (nullable = true)\n",
      " |-- inositol_100g: double (nullable = true)\n",
      " |-- carnitine_100g: double (nullable = true)\n",
      " |-- sulphate_100g: double (nullable = true)\n",
      " |-- nitrate_100g: double (nullable = true)\n",
      " |-- acidity_100g: double (nullable = true)\n",
      " |-- carbohydrates-total_100g: double (nullable = true)\n",
      "\n"
     ]
    }
   ],
   "source": [
    "df = spark.read.option(\"header\", True) \\\n",
    "               .option(\"sep\", \"\\t\") \\\n",
    "               .option(\"inferSchema\", True) \\\n",
    "               .csv(SOURCE_DATA_PATH)\n",
    "df.show(5, truncate=False)\n",
    "df.printSchema()"
   ]
  },
  {
   "cell_type": "code",
   "execution_count": 8,
   "id": "df92f717",
   "metadata": {},
   "outputs": [
    {
     "name": "stderr",
     "output_type": "stream",
     "text": [
      "[Stage 3:=====================================================>   (81 + 6) / 87]\r"
     ]
    },
    {
     "name": "stdout",
     "output_type": "stream",
     "text": [
      "Number of rows: 4051190\n",
      "Number of columns: 214\n"
     ]
    },
    {
     "name": "stderr",
     "output_type": "stream",
     "text": [
      "                                                                                \r"
     ]
    }
   ],
   "source": [
    "print(\"Number of rows:\", df.count())\n",
    "print(\"Number of columns:\", len(df.columns))"
   ]
  },
  {
   "cell_type": "code",
   "execution_count": 9,
   "id": "f788b122",
   "metadata": {},
   "outputs": [
    {
     "name": "stdout",
     "output_type": "stream",
     "text": [
      "0: code\n",
      "1: url\n",
      "2: creator\n",
      "3: created_t\n",
      "4: created_datetime\n",
      "5: last_modified_t\n",
      "6: last_modified_datetime\n",
      "7: last_modified_by\n",
      "8: last_updated_t\n",
      "9: last_updated_datetime\n",
      "10: product_name\n",
      "11: abbreviated_product_name\n",
      "12: generic_name\n",
      "13: quantity\n",
      "14: packaging\n",
      "15: packaging_tags\n",
      "16: packaging_en\n",
      "17: packaging_text\n",
      "18: brands\n",
      "19: brands_tags\n",
      "20: brands_en\n",
      "21: categories\n",
      "22: categories_tags\n",
      "23: categories_en\n",
      "24: origins\n",
      "25: origins_tags\n",
      "26: origins_en\n",
      "27: manufacturing_places\n",
      "28: manufacturing_places_tags\n",
      "29: labels\n",
      "30: labels_tags\n",
      "31: labels_en\n",
      "32: emb_codes\n",
      "33: emb_codes_tags\n",
      "34: first_packaging_code_geo\n",
      "35: cities\n",
      "36: cities_tags\n",
      "37: purchase_places\n",
      "38: stores\n",
      "39: countries\n",
      "40: countries_tags\n",
      "41: countries_en\n",
      "42: ingredients_text\n",
      "43: ingredients_tags\n",
      "44: ingredients_analysis_tags\n",
      "45: allergens\n",
      "46: allergens_en\n",
      "47: traces\n",
      "48: traces_tags\n",
      "49: traces_en\n",
      "50: serving_size\n",
      "51: serving_quantity\n",
      "52: no_nutrition_data\n",
      "53: additives_n\n",
      "54: additives\n",
      "55: additives_tags\n",
      "56: additives_en\n",
      "57: nutriscore_score\n",
      "58: nutriscore_grade\n",
      "59: nova_group\n",
      "60: pnns_groups_1\n",
      "61: pnns_groups_2\n",
      "62: food_groups\n",
      "63: food_groups_tags\n",
      "64: food_groups_en\n",
      "65: states\n",
      "66: states_tags\n",
      "67: states_en\n",
      "68: brand_owner\n",
      "69: environmental_score_score\n",
      "70: environmental_score_grade\n",
      "71: nutrient_levels_tags\n",
      "72: product_quantity\n",
      "73: owner\n",
      "74: data_quality_errors_tags\n",
      "75: unique_scans_n\n",
      "76: popularity_tags\n",
      "77: completeness\n",
      "78: last_image_t\n",
      "79: last_image_datetime\n",
      "80: main_category\n",
      "81: main_category_en\n",
      "82: image_url\n",
      "83: image_small_url\n",
      "84: image_ingredients_url\n",
      "85: image_ingredients_small_url\n",
      "86: image_nutrition_url\n",
      "87: image_nutrition_small_url\n",
      "88: energy-kj_100g\n",
      "89: energy-kcal_100g\n",
      "90: energy_100g\n",
      "91: energy-from-fat_100g\n",
      "92: fat_100g\n",
      "93: saturated-fat_100g\n",
      "94: butyric-acid_100g\n",
      "95: caproic-acid_100g\n",
      "96: caprylic-acid_100g\n",
      "97: capric-acid_100g\n",
      "98: lauric-acid_100g\n",
      "99: myristic-acid_100g\n",
      "100: palmitic-acid_100g\n",
      "101: stearic-acid_100g\n",
      "102: arachidic-acid_100g\n",
      "103: behenic-acid_100g\n",
      "104: lignoceric-acid_100g\n",
      "105: cerotic-acid_100g\n",
      "106: montanic-acid_100g\n",
      "107: melissic-acid_100g\n",
      "108: unsaturated-fat_100g\n",
      "109: monounsaturated-fat_100g\n",
      "110: omega-9-fat_100g\n",
      "111: polyunsaturated-fat_100g\n",
      "112: omega-3-fat_100g\n",
      "113: omega-6-fat_100g\n",
      "114: alpha-linolenic-acid_100g\n",
      "115: eicosapentaenoic-acid_100g\n",
      "116: docosahexaenoic-acid_100g\n",
      "117: linoleic-acid_100g\n",
      "118: arachidonic-acid_100g\n",
      "119: gamma-linolenic-acid_100g\n",
      "120: dihomo-gamma-linolenic-acid_100g\n",
      "121: oleic-acid_100g\n",
      "122: elaidic-acid_100g\n",
      "123: gondoic-acid_100g\n",
      "124: mead-acid_100g\n",
      "125: erucic-acid_100g\n",
      "126: nervonic-acid_100g\n",
      "127: trans-fat_100g\n",
      "128: cholesterol_100g\n",
      "129: carbohydrates_100g\n",
      "130: sugars_100g\n",
      "131: added-sugars_100g\n",
      "132: sucrose_100g\n",
      "133: glucose_100g\n",
      "134: fructose_100g\n",
      "135: galactose_100g\n",
      "136: lactose_100g\n",
      "137: maltose_100g\n",
      "138: maltodextrins_100g\n",
      "139: psicose_100g\n",
      "140: starch_100g\n",
      "141: polyols_100g\n",
      "142: erythritol_100g\n",
      "143: isomalt_100g\n",
      "144: maltitol_100g\n",
      "145: sorbitol_100g\n",
      "146: fiber_100g\n",
      "147: soluble-fiber_100g\n",
      "148: insoluble-fiber_100g\n",
      "149: proteins_100g\n",
      "150: casein_100g\n",
      "151: serum-proteins_100g\n",
      "152: nucleotides_100g\n",
      "153: salt_100g\n",
      "154: added-salt_100g\n",
      "155: sodium_100g\n",
      "156: alcohol_100g\n",
      "157: vitamin-a_100g\n",
      "158: beta-carotene_100g\n",
      "159: vitamin-d_100g\n",
      "160: vitamin-e_100g\n",
      "161: vitamin-k_100g\n",
      "162: vitamin-c_100g\n",
      "163: vitamin-b1_100g\n",
      "164: vitamin-b2_100g\n",
      "165: vitamin-pp_100g\n",
      "166: vitamin-b6_100g\n",
      "167: vitamin-b9_100g\n",
      "168: folates_100g\n",
      "169: vitamin-b12_100g\n",
      "170: biotin_100g\n",
      "171: pantothenic-acid_100g\n",
      "172: silica_100g\n",
      "173: bicarbonate_100g\n",
      "174: potassium_100g\n",
      "175: chloride_100g\n",
      "176: calcium_100g\n",
      "177: phosphorus_100g\n",
      "178: iron_100g\n",
      "179: magnesium_100g\n",
      "180: zinc_100g\n",
      "181: copper_100g\n",
      "182: manganese_100g\n",
      "183: fluoride_100g\n",
      "184: selenium_100g\n",
      "185: chromium_100g\n",
      "186: molybdenum_100g\n",
      "187: iodine_100g\n",
      "188: caffeine_100g\n",
      "189: taurine_100g\n",
      "190: methylsulfonylmethane_100g\n",
      "191: ph_100g\n",
      "192: fruits-vegetables-nuts_100g\n",
      "193: fruits-vegetables-nuts-dried_100g\n",
      "194: fruits-vegetables-nuts-estimate_100g\n",
      "195: fruits-vegetables-nuts-estimate-from-ingredients_100g\n",
      "196: collagen-meat-protein-ratio_100g\n",
      "197: cocoa_100g\n",
      "198: chlorophyl_100g\n",
      "199: carbon-footprint_100g\n",
      "200: carbon-footprint-from-meat-or-fish_100g\n",
      "201: nutrition-score-fr_100g\n",
      "202: nutrition-score-uk_100g\n",
      "203: glycemic-index_100g\n",
      "204: water-hardness_100g\n",
      "205: choline_100g\n",
      "206: phylloquinone_100g\n",
      "207: beta-glucan_100g\n",
      "208: inositol_100g\n",
      "209: carnitine_100g\n",
      "210: sulphate_100g\n",
      "211: nitrate_100g\n",
      "212: acidity_100g\n",
      "213: carbohydrates-total_100g\n"
     ]
    }
   ],
   "source": [
    "for idx, col_name in enumerate(df.columns):\n",
    "    print(f\"{idx}: {col_name}\")"
   ]
  },
  {
   "cell_type": "code",
   "execution_count": 10,
   "id": "b96c45f8",
   "metadata": {},
   "outputs": [
    {
     "name": "stdout",
     "output_type": "stream",
     "text": [
      "Columns left: 126\n",
      "root\n",
      " |-- energy-kj_100g: double (nullable = true)\n",
      " |-- energy-kcal_100g: double (nullable = true)\n",
      " |-- energy_100g: double (nullable = true)\n",
      " |-- energy-from-fat_100g: double (nullable = true)\n",
      " |-- fat_100g: double (nullable = true)\n",
      " |-- saturated-fat_100g: double (nullable = true)\n",
      " |-- butyric-acid_100g: double (nullable = true)\n",
      " |-- caproic-acid_100g: double (nullable = true)\n",
      " |-- caprylic-acid_100g: double (nullable = true)\n",
      " |-- capric-acid_100g: double (nullable = true)\n",
      " |-- lauric-acid_100g: double (nullable = true)\n",
      " |-- myristic-acid_100g: double (nullable = true)\n",
      " |-- palmitic-acid_100g: double (nullable = true)\n",
      " |-- stearic-acid_100g: double (nullable = true)\n",
      " |-- arachidic-acid_100g: double (nullable = true)\n",
      " |-- behenic-acid_100g: double (nullable = true)\n",
      " |-- lignoceric-acid_100g: double (nullable = true)\n",
      " |-- cerotic-acid_100g: double (nullable = true)\n",
      " |-- montanic-acid_100g: double (nullable = true)\n",
      " |-- melissic-acid_100g: double (nullable = true)\n",
      " |-- unsaturated-fat_100g: double (nullable = true)\n",
      " |-- monounsaturated-fat_100g: double (nullable = true)\n",
      " |-- omega-9-fat_100g: double (nullable = true)\n",
      " |-- polyunsaturated-fat_100g: double (nullable = true)\n",
      " |-- omega-3-fat_100g: double (nullable = true)\n",
      " |-- omega-6-fat_100g: double (nullable = true)\n",
      " |-- alpha-linolenic-acid_100g: double (nullable = true)\n",
      " |-- eicosapentaenoic-acid_100g: double (nullable = true)\n",
      " |-- docosahexaenoic-acid_100g: double (nullable = true)\n",
      " |-- linoleic-acid_100g: double (nullable = true)\n",
      " |-- arachidonic-acid_100g: double (nullable = true)\n",
      " |-- gamma-linolenic-acid_100g: double (nullable = true)\n",
      " |-- dihomo-gamma-linolenic-acid_100g: double (nullable = true)\n",
      " |-- oleic-acid_100g: double (nullable = true)\n",
      " |-- elaidic-acid_100g: double (nullable = true)\n",
      " |-- gondoic-acid_100g: double (nullable = true)\n",
      " |-- mead-acid_100g: double (nullable = true)\n",
      " |-- erucic-acid_100g: double (nullable = true)\n",
      " |-- nervonic-acid_100g: double (nullable = true)\n",
      " |-- trans-fat_100g: double (nullable = true)\n",
      " |-- cholesterol_100g: double (nullable = true)\n",
      " |-- carbohydrates_100g: double (nullable = true)\n",
      " |-- sugars_100g: double (nullable = true)\n",
      " |-- added-sugars_100g: double (nullable = true)\n",
      " |-- sucrose_100g: double (nullable = true)\n",
      " |-- glucose_100g: double (nullable = true)\n",
      " |-- fructose_100g: double (nullable = true)\n",
      " |-- galactose_100g: double (nullable = true)\n",
      " |-- lactose_100g: double (nullable = true)\n",
      " |-- maltose_100g: double (nullable = true)\n",
      " |-- maltodextrins_100g: double (nullable = true)\n",
      " |-- psicose_100g: string (nullable = true)\n",
      " |-- starch_100g: double (nullable = true)\n",
      " |-- polyols_100g: double (nullable = true)\n",
      " |-- erythritol_100g: double (nullable = true)\n",
      " |-- isomalt_100g: string (nullable = true)\n",
      " |-- maltitol_100g: double (nullable = true)\n",
      " |-- sorbitol_100g: double (nullable = true)\n",
      " |-- fiber_100g: double (nullable = true)\n",
      " |-- soluble-fiber_100g: double (nullable = true)\n",
      " |-- insoluble-fiber_100g: double (nullable = true)\n",
      " |-- proteins_100g: double (nullable = true)\n",
      " |-- casein_100g: double (nullable = true)\n",
      " |-- serum-proteins_100g: double (nullable = true)\n",
      " |-- nucleotides_100g: double (nullable = true)\n",
      " |-- salt_100g: double (nullable = true)\n",
      " |-- added-salt_100g: double (nullable = true)\n",
      " |-- sodium_100g: double (nullable = true)\n",
      " |-- alcohol_100g: double (nullable = true)\n",
      " |-- vitamin-a_100g: double (nullable = true)\n",
      " |-- beta-carotene_100g: double (nullable = true)\n",
      " |-- vitamin-d_100g: double (nullable = true)\n",
      " |-- vitamin-e_100g: double (nullable = true)\n",
      " |-- vitamin-k_100g: double (nullable = true)\n",
      " |-- vitamin-c_100g: double (nullable = true)\n",
      " |-- vitamin-b1_100g: double (nullable = true)\n",
      " |-- vitamin-b2_100g: double (nullable = true)\n",
      " |-- vitamin-pp_100g: double (nullable = true)\n",
      " |-- vitamin-b6_100g: double (nullable = true)\n",
      " |-- vitamin-b9_100g: double (nullable = true)\n",
      " |-- folates_100g: double (nullable = true)\n",
      " |-- vitamin-b12_100g: double (nullable = true)\n",
      " |-- biotin_100g: double (nullable = true)\n",
      " |-- pantothenic-acid_100g: double (nullable = true)\n",
      " |-- silica_100g: double (nullable = true)\n",
      " |-- bicarbonate_100g: double (nullable = true)\n",
      " |-- potassium_100g: double (nullable = true)\n",
      " |-- chloride_100g: double (nullable = true)\n",
      " |-- calcium_100g: double (nullable = true)\n",
      " |-- phosphorus_100g: double (nullable = true)\n",
      " |-- iron_100g: double (nullable = true)\n",
      " |-- magnesium_100g: double (nullable = true)\n",
      " |-- zinc_100g: double (nullable = true)\n",
      " |-- copper_100g: double (nullable = true)\n",
      " |-- manganese_100g: double (nullable = true)\n",
      " |-- fluoride_100g: double (nullable = true)\n",
      " |-- selenium_100g: double (nullable = true)\n",
      " |-- chromium_100g: double (nullable = true)\n",
      " |-- molybdenum_100g: double (nullable = true)\n",
      " |-- iodine_100g: double (nullable = true)\n",
      " |-- caffeine_100g: double (nullable = true)\n",
      " |-- taurine_100g: double (nullable = true)\n",
      " |-- methylsulfonylmethane_100g: string (nullable = true)\n",
      " |-- ph_100g: double (nullable = true)\n",
      " |-- fruits-vegetables-nuts_100g: double (nullable = true)\n",
      " |-- fruits-vegetables-nuts-dried_100g: double (nullable = true)\n",
      " |-- fruits-vegetables-nuts-estimate_100g: double (nullable = true)\n",
      " |-- fruits-vegetables-nuts-estimate-from-ingredients_100g: double (nullable = true)\n",
      " |-- collagen-meat-protein-ratio_100g: double (nullable = true)\n",
      " |-- cocoa_100g: double (nullable = true)\n",
      " |-- chlorophyl_100g: double (nullable = true)\n",
      " |-- carbon-footprint_100g: double (nullable = true)\n",
      " |-- carbon-footprint-from-meat-or-fish_100g: double (nullable = true)\n",
      " |-- nutrition-score-fr_100g: integer (nullable = true)\n",
      " |-- nutrition-score-uk_100g: string (nullable = true)\n",
      " |-- glycemic-index_100g: double (nullable = true)\n",
      " |-- water-hardness_100g: double (nullable = true)\n",
      " |-- choline_100g: double (nullable = true)\n",
      " |-- phylloquinone_100g: double (nullable = true)\n",
      " |-- beta-glucan_100g: double (nullable = true)\n",
      " |-- inositol_100g: double (nullable = true)\n",
      " |-- carnitine_100g: double (nullable = true)\n",
      " |-- sulphate_100g: double (nullable = true)\n",
      " |-- nitrate_100g: double (nullable = true)\n",
      " |-- acidity_100g: double (nullable = true)\n",
      " |-- carbohydrates-total_100g: double (nullable = true)\n",
      "\n"
     ]
    }
   ],
   "source": [
    "nutrient_columns = df.columns[88:]\n",
    "df_nutrients = df.select(nutrient_columns)\n",
    "\n",
    "print(f\"Columns left: {len(nutrient_columns)}\")\n",
    "df_nutrients.printSchema()"
   ]
  },
  {
   "cell_type": "code",
   "execution_count": 11,
   "id": "7eef7df7",
   "metadata": {},
   "outputs": [
    {
     "name": "stderr",
     "output_type": "stream",
     "text": [
      "25/09/16 13:24:28 WARN BaseSessionStateBuilder$$anon$2: Max iterations (100) reached for batch Operator Optimization before Inferring Filters, please set 'spark.sql.optimizer.maxIterations' to a larger value.\n",
      "[Stage 6:=======================================================> (85 + 2) / 87]\r"
     ]
    },
    {
     "name": "stdout",
     "output_type": "stream",
     "text": [
      "Remaining number of rows after filtering: 3163955\n"
     ]
    },
    {
     "name": "stderr",
     "output_type": "stream",
     "text": [
      "                                                                                \r"
     ]
    }
   ],
   "source": [
    "df_cleaned = df_nutrients.filter(\n",
    "    ~reduce(lambda a, b: a & b, [col(c).isNull() for c in df_nutrients.columns])\n",
    ")\n",
    "remaining_count = df_cleaned.count()\n",
    "print(f\"Remaining number of rows after filtering: {remaining_count}\")"
   ]
  },
  {
   "cell_type": "code",
   "execution_count": 12,
   "id": "1d1a36db",
   "metadata": {},
   "outputs": [
    {
     "name": "stderr",
     "output_type": "stream",
     "text": [
      "25/09/16 13:24:58 WARN BaseSessionStateBuilder$$anon$2: Max iterations (100) reached for batch Operator Optimization before Inferring Filters, please set 'spark.sql.optimizer.maxIterations' to a larger value.\n",
      "25/09/16 13:25:40 WARN DAGScheduler: Broadcasting large task binary with size 1603.8 KiB\n",
      "[Stage 11:>                                                         (0 + 1) / 1]\r"
     ]
    },
    {
     "name": "stdout",
     "output_type": "stream",
     "text": [
      "+-------+-----------------+----------------------+---------------------+--------------------+------------------+------------------+-----------------+---------------------+---------------------+---------------------+--------------------+--------------------+---------------------+--------------------+---------------------+--------------------+---------------------+---------------------+---------------------+--------------------+--------------------+------------------------+---------------------+------------------------+--------------------+--------------------+-------------------------+--------------------------+-------------------------+---------------------+---------------------+-------------------------+--------------------------------+--------------------+---------------------+---------------------+--------------------+--------------------+--------------------+--------------------+------------------+------------------+--------------------+-------------------+---------------------+--------------------+--------------------+--------------------+---------------------+---------------------+---------------------+------------+--------------------+-------------------+--------------------+------------+---------------------+---------------------+---------------------+---------------------+--------------------+-------------------+--------------------+---------------------+-------------------+------------------+--------------------+------------------+------------------+---------------------+--------------------+---------------------+---------------------+-------------------+----------------------+--------------------+---------------------+---------------------+---------------------+--------------------+--------------------+--------------------+--------------------+---------------------+---------------------+--------------------+-------------------+--------------------+--------------------+--------------------+-------------------+---------------------+--------------------+--------------------+--------------------+--------------------+--------------------+-------------------+--------------------+--------------------+--------------------+---------------------+--------------------------+---------------------+---------------------------+---------------------------------+------------------------------------+-----------------------------------------------------+--------------------------------+-------------------+---------------------+---------------------+---------------------------------------+-----------------------+-----------------------+--------------------+--------------------+---------------------+--------------------+--------------------+--------------------+--------------------+---------------------+---------------------+--------------------+------------------------+\n",
      "|summary|energy-kj_100g   |energy-kcal_100g      |energy_100g          |energy-from-fat_100g|fat_100g          |saturated-fat_100g|butyric-acid_100g|caproic-acid_100g    |caprylic-acid_100g   |capric-acid_100g     |lauric-acid_100g    |myristic-acid_100g  |palmitic-acid_100g   |stearic-acid_100g   |arachidic-acid_100g  |behenic-acid_100g   |lignoceric-acid_100g |cerotic-acid_100g    |montanic-acid_100g   |melissic-acid_100g  |unsaturated-fat_100g|monounsaturated-fat_100g|omega-9-fat_100g     |polyunsaturated-fat_100g|omega-3-fat_100g    |omega-6-fat_100g    |alpha-linolenic-acid_100g|eicosapentaenoic-acid_100g|docosahexaenoic-acid_100g|linoleic-acid_100g   |arachidonic-acid_100g|gamma-linolenic-acid_100g|dihomo-gamma-linolenic-acid_100g|oleic-acid_100g     |elaidic-acid_100g    |gondoic-acid_100g    |mead-acid_100g      |erucic-acid_100g    |nervonic-acid_100g  |trans-fat_100g      |cholesterol_100g  |carbohydrates_100g|sugars_100g         |added-sugars_100g  |sucrose_100g         |glucose_100g        |fructose_100g       |galactose_100g      |lactose_100g         |maltose_100g         |maltodextrins_100g   |psicose_100g|starch_100g         |polyols_100g       |erythritol_100g     |isomalt_100g|maltitol_100g        |sorbitol_100g        |fiber_100g           |soluble-fiber_100g   |insoluble-fiber_100g|proteins_100g      |casein_100g         |serum-proteins_100g  |nucleotides_100g   |salt_100g         |added-salt_100g     |sodium_100g       |alcohol_100g      |vitamin-a_100g       |beta-carotene_100g  |vitamin-d_100g       |vitamin-e_100g       |vitamin-k_100g     |vitamin-c_100g        |vitamin-b1_100g     |vitamin-b2_100g      |vitamin-pp_100g      |vitamin-b6_100g      |vitamin-b9_100g     |folates_100g        |vitamin-b12_100g    |biotin_100g         |pantothenic-acid_100g|silica_100g          |bicarbonate_100g    |potassium_100g     |chloride_100g       |calcium_100g        |phosphorus_100g     |iron_100g          |magnesium_100g       |zinc_100g           |copper_100g         |manganese_100g      |fluoride_100g       |selenium_100g       |chromium_100g      |molybdenum_100g     |iodine_100g         |caffeine_100g       |taurine_100g         |methylsulfonylmethane_100g|ph_100g              |fruits-vegetables-nuts_100g|fruits-vegetables-nuts-dried_100g|fruits-vegetables-nuts-estimate_100g|fruits-vegetables-nuts-estimate-from-ingredients_100g|collagen-meat-protein-ratio_100g|cocoa_100g         |chlorophyl_100g      |carbon-footprint_100g|carbon-footprint-from-meat-or-fish_100g|nutrition-score-fr_100g|nutrition-score-uk_100g|glycemic-index_100g |water-hardness_100g |choline_100g         |phylloquinone_100g  |beta-glucan_100g    |inositol_100g       |carnitine_100g      |sulphate_100g        |nitrate_100g         |acidity_100g        |carbohydrates-total_100g|\n",
      "+-------+-----------------+----------------------+---------------------+--------------------+------------------+------------------+-----------------+---------------------+---------------------+---------------------+--------------------+--------------------+---------------------+--------------------+---------------------+--------------------+---------------------+---------------------+---------------------+--------------------+--------------------+------------------------+---------------------+------------------------+--------------------+--------------------+-------------------------+--------------------------+-------------------------+---------------------+---------------------+-------------------------+--------------------------------+--------------------+---------------------+---------------------+--------------------+--------------------+--------------------+--------------------+------------------+------------------+--------------------+-------------------+---------------------+--------------------+--------------------+--------------------+---------------------+---------------------+---------------------+------------+--------------------+-------------------+--------------------+------------+---------------------+---------------------+---------------------+---------------------+--------------------+-------------------+--------------------+---------------------+-------------------+------------------+--------------------+------------------+------------------+---------------------+--------------------+---------------------+---------------------+-------------------+----------------------+--------------------+---------------------+---------------------+---------------------+--------------------+--------------------+--------------------+--------------------+---------------------+---------------------+--------------------+-------------------+--------------------+--------------------+--------------------+-------------------+---------------------+--------------------+--------------------+--------------------+--------------------+--------------------+-------------------+--------------------+--------------------+--------------------+---------------------+--------------------------+---------------------+---------------------------+---------------------------------+------------------------------------+-----------------------------------------------------+--------------------------------+-------------------+---------------------+---------------------+---------------------------------------+-----------------------+-----------------------+--------------------+--------------------+---------------------+--------------------+--------------------+--------------------+--------------------+---------------------+---------------------+--------------------+------------------------+\n",
      "|count  |3163955          |3163955               |3163955              |3163955             |3163955           |3163955           |3163955          |3163955              |3163955              |3163955              |3163955             |3163955             |3163955              |3163955             |3163955              |3163955             |3163955              |3163955              |3163955              |3163955             |3163955             |3163955                 |3163955              |3163955                 |3163955             |3163955             |3163955                  |3163955                   |3163955                  |3163955              |3163955              |3163955                  |3163955                         |3163955             |3163955              |3163955              |3163955             |3163955             |3163955             |3163955             |3163955           |3163955           |3163955             |3163955            |3163955              |3163955             |3163955             |3163955             |3163955              |3163955              |3163955              |0           |3163955             |3163955            |3163955             |0           |3163955              |3163955              |3163955              |3163955              |3163955             |3163955            |3163955             |3163955              |3163955            |3163955           |3163955             |3163955           |3163955           |3163955              |3163955             |3163955              |3163955              |3163955            |3163955               |3163955             |3163955              |3163955              |3163955              |3163955             |3163955             |3163955             |3163955             |3163955              |3163955              |3163955             |3163955            |3163955             |3163955             |3163955             |3163955            |3163955              |3163955             |3163955             |3163955             |3163955             |3163955             |3163955            |3163955             |3163955             |3163955             |3163955              |0                         |3163955              |3163955                    |3163955                          |3163955                             |3163955                                              |3163955                         |3163955            |3163955              |3163955              |3163955                                |3163955                |0                      |3163955             |3163955             |3163955              |3163955             |3163955             |3163955             |3163955             |3163955              |3163955              |3163955             |3163955                 |\n",
      "|mean   |3679.288258211606|-2.6651908996093E12   |1.8805581858254597E10|0.18617977499679994 |29.097658416024263|1705.2637774005948|2844.541118384546|1.8254516404310432E-5|1.0200001493384072E-4|1.1452615034031772E-4|3.554904863691171E-4|9.328362992014741E-5|1.9404552153621024E-4|7.176950677237824E-5|1.2342542235904114E-4|1.248275880325732E-4|1.9251020321085478E-5|1.6787786185075327E-5|4.6960968705749606E-5|6.706481953978485E-5|7.940593339665071E-4|0.27801679257870104     |0.0016589879833373742|0.15845573332109797     |0.028238297911008417|0.016152190926793663|0.0024058916122258692    |0.002683810855732777      |0.003764828841058107     |0.0024132856569714497|1.6669849231941032   |1.945876920973908E-5     |1.514314249096463E-4            |7.191629640750264E-4|1.0272036893697918E-5|5.8634939740166964E-5|4.039625121090534E-6|4.879812165470116E-7|2.600534428931511E-5|0.014466366889826216|0.0162777439595758|45.79246960342943 |3.712813280179031E26|0.37125793448061495|0.0012931103029215016|4.395236692377104E-4|7.383706784704587E-4|7.095549715466876E-6|0.0028890612205762726|2.1434459164457138E-4|2.0311852701078244E-4|NULL        |0.005984602939233492|0.09276996089542686|4.995099487824573E-4|NULL        |2.9045925115875545E-5|1.1352879544747002E-5|3.1606014027142734E13|0.0037867387494449197|0.005773650699836123|18389.27635597736  |7.402421782800326E-4|4.2548727210089894E-4|1.4629320612967E-4 |1.82197155945883  |3.240880480284959E-5|0.7288084434435735|3611.5980135551067|2.915140082481689E10 |3.061779188399014E-4|0.0013808057473332917|0.0010346531597152596|0.00179899015609653|-2.9151400815920415E12|0.004138876678779105|3.2670731999406166E-4|4.3120789547446164E-4|0.0013820997096533057|0.003964985296962578|0.011148328144673675|3.718363533098938E-4|2.915140081594231E8 |2.546674406591185E-4 |1.8612594238113367E-4|8.548276189497007E-4|0.04121007812246014|7.905876764486219E-4|2.844541088641646E9 |0.007426942943115992|2844541.0908896485 |0.0073772805280734825|8.487301986186724E-4|4.645318039186496E-4|0.003959245078840602|4.0082641695947E-5  |0.002142628251334523|9.22233990148406E-5|2.523940733400759E-4|0.005162291648304444|0.002124142453514264|2.2393274037794473E-4|NULL                      |0.0015205976045803437|0.14233064123857642        |0.008654708995545135             |0.1970615119368006                  |6.473959129100974                                    |0.001528729706964859            |0.14391138164101575|4.913201989282401E-6 |0.03840931906118889  |2.43724839228118                       |4.54399098596535       |NULL                   |9.503927837153184E-5|4.261024572094104E-6|1.9325578840703926E-4|9.399380396655452E-5|8.111050884099174E-5|6.901972594426913E-5|4.419702555820169E-6|4.034203166606353E-6 |1.4632167650930556E-6|4.974786303850719E-5|7.302821942789958E-4    |\n",
      "|stddev |5650464.066898962|4.748700731204957E15  |3.3450438610204754E13|16.200330417307473  |28112.255412905728|3022153.387989252 |5059730.209947252|0.02717997273655613  |0.08290137092367907  |0.0834458432854326   |0.21061232773772406 |0.08431328686798344 |0.18128124378476912  |0.056938794021278244|0.04909356149687069  |0.1753953437953243  |0.03162910653840771  |0.01604960298941738  |0.04671724592923424  |0.05318242090349819 |0.2123082894978518  |5.479287132742563       |1.0125840919454436   |3.5798489274766547      |15.165017691318738  |11.602221806804256  |1.08325826556197         |4.543223638365367         |6.353598532749771        |2.854274249118529    |2964.875410851206    |0.02155999502185787      |0.09224279896528012             |0.1829039926904736  |0.013719447431352505 |0.05149498690316884  |0.004822625349925829|4.874497005439794E-4|0.03285504715021926 |5.697277683492278   |16.874814116187803|28542.314368205345|6.60417020944193E29 |10.358390643036406 |0.33727287462233185  |0.12650608184818873 |0.18441073465912472 |0.004162590672972851|1.7789044911710856   |0.16848216682591144  |0.13225675996613673  |NULL        |0.5523277307475867  |2.8264673957570565 |0.12443301142376877 |NULL        |0.032280060338296654 |0.01795302919939667  |5.6219224554968616E16|0.39251886083576787  |0.3252984625567645  |3.121288343375996E7|1.1251406887359339  |0.37093653525015063  |0.08534641307690427|223.24517828918601|0.009532260357852883|89.29757930191914 |5671468.336183426 |5.185308236939635E13 |0.4007861298782914  |1.6715156234081154   |0.48936780190421497  |2.321072495663913  |5.185308236939661E15  |0.9153595585979015  |0.123822314820339    |0.1196151393524654   |0.8242261837901451   |3.1055655084439397  |9.948470592028276   |0.1763681862662748  |5.185308236939599E11|0.18124859091297665  |0.2173035581472146   |0.9987295771956847  |4.809953933369781  |0.8863470117430232  |5.059730209947245E12|4.088401994411382   |5.059730209947256E9|3.7353425278896357   |0.6401276981995232  |0.5503895740239769  |6.336641455513008   |0.052336919130054824|2.0587100640638867  |0.08759108735341303|0.13847275049418092 |6.1732388600687855  |0.864348408191176   |0.2297384112299628   |NULL                      |0.10587871031630555  |3.311070839792637          |0.8799709805774412               |3.62885917417247                    |22.98415505466811                                    |0.16263954116619084             |3.008531435403038  |0.0034563947903994466|7.143828862608972    |374.67927173298557                     |8.570473905884889      |NULL                   |0.06673689849765133 |0.00522206839915249 |0.22358143920074555  |0.1000864402508894  |0.02182629822178417 |0.06690024577444507 |0.006497976185679969|0.0031361925551875885|0.0015153668165651636|0.019027151595677652|0.22861129704232447     |\n",
      "|min    |0.0              |-8.4467440737095516E18|0.0                  |0.0                 |0.0               |0.0               |0.0              |0.0                  |0.0                  |0.0                  |0.0                 |0.0                 |0.0                  |0.0                 |0.0                  |0.0                 |0.0                  |0.0                  |0.0                  |0.0                 |0.0                 |0.0                     |0.0                  |0.0                     |0.0                 |0.0                 |0.0                      |0.0                       |0.0                      |0.0                  |0.0                  |0.0                      |0.0                             |0.0                 |0.0                  |0.0                  |0.0                 |0.0                 |0.0                 |0.0                 |0.0               |-1.0              |-1.45               |0.0                |0.0                  |0.0                 |0.0                 |0.0                 |0.0                  |0.0                  |0.0                  |NULL        |0.0                 |0.0                |0.0                 |NULL        |0.0                  |0.0                  |-44.7                |0.0                  |0.0                 |-12.6              |0.0                 |0.0                  |0.0                |0.0               |0.0                 |0.0               |0.0               |-3.396E-4            |0.0                 |0.0                  |0.0                  |0.0                |-9.2233720368547717E18|0.0                 |0.0                  |0.0                  |0.0                  |0.0                 |0.0                 |0.0                 |0.0                 |0.0                  |0.0                  |0.0                 |0.0                |0.0                 |0.0                 |0.0                 |-2.6E-4            |0.0                  |0.0                 |-6.896552           |0.0                 |0.0                 |-2.0E-6             |0.0                |0.0                 |0.0                 |0.0                 |0.0                  |NULL                      |0.0                  |0.0                        |0.0                              |0.0                                 |-65.88725625                                         |0.0                             |0.0                |0.0                  |0.0                  |0.0                                    |-18                    |NULL                   |0.0                 |0.0                 |0.0                  |0.0                 |0.0                 |0.0                 |0.0                 |0.0                  |0.0                  |0.0                 |0.0                     |\n",
      "|max    |1.0E10           |1.42E16               |5.95E16              |9860.0              |5.0E7             |5.375657258E9     |9.0E9            |48.0                 |97.0                 |95.0                 |323.0               |134.0               |300.0                |72.0                |52.1                 |310.0               |56.2                 |20.0                 |61.0                 |68.0                |92.1                |1753.0                  |1750.0               |893.0                   |22400.0             |16600.0             |1540.0                   |8080.0                    |11300.0                  |5070.0               |5273775.0            |36.4                     |75.0                            |82.0                |23.2                 |77.0                 |7.9                 |0.52                |56.0                |10000.0             |30000.05          |5.0E7             |1.17471741414444E33 |9000.0             |428.0                |100.0               |101.4               |3.5                 |3125.0               |225.0                |188.0                |NULL        |304.0               |664.0              |99.4                |NULL        |47.0                 |31.8                 |1.0E20               |600.0                |177.0               |5.5462512421E10    |2000.0              |633.0                |75.3               |355942.5          |10.4                |142377.0          |9.999999999E9     |9.2233720368547808E16|700.0               |2962.96296296296     |740.740740740741     |4074.07407407407   |1200000.0             |1083.0              |140.740740740741     |106.0                |1300.0               |4440.0              |10461.5384615385    |190.0               |9.22337203685478E14 |300.0                |375.0                |1742.0              |5000.0             |1560.0              |9.0E15              |5111.11111111111    |9.0E12             |5620.0               |977.777777777778    |960.0               |11235.9550561798    |88.888              |2962.96296296296    |106.0              |160.0               |10370.3703703704    |1250.0              |400.0                |NULL                      |14.0                 |100.0                      |100.0                            |250.0                               |13461.0                                              |100.0                           |100.0              |4.1                  |6400.0               |656298.6                               |55                     |NULL                   |70.0                |9.1                 |390.0                |160.0               |20.0                |75.0                |11.5                |5.2                  |2.0                  |20.0                |197.0                   |\n",
      "+-------+-----------------+----------------------+---------------------+--------------------+------------------+------------------+-----------------+---------------------+---------------------+---------------------+--------------------+--------------------+---------------------+--------------------+---------------------+--------------------+---------------------+---------------------+---------------------+--------------------+--------------------+------------------------+---------------------+------------------------+--------------------+--------------------+-------------------------+--------------------------+-------------------------+---------------------+---------------------+-------------------------+--------------------------------+--------------------+---------------------+---------------------+--------------------+--------------------+--------------------+--------------------+------------------+------------------+--------------------+-------------------+---------------------+--------------------+--------------------+--------------------+---------------------+---------------------+---------------------+------------+--------------------+-------------------+--------------------+------------+---------------------+---------------------+---------------------+---------------------+--------------------+-------------------+--------------------+---------------------+-------------------+------------------+--------------------+------------------+------------------+---------------------+--------------------+---------------------+---------------------+-------------------+----------------------+--------------------+---------------------+---------------------+---------------------+--------------------+--------------------+--------------------+--------------------+---------------------+---------------------+--------------------+-------------------+--------------------+--------------------+--------------------+-------------------+---------------------+--------------------+--------------------+--------------------+--------------------+--------------------+-------------------+--------------------+--------------------+--------------------+---------------------+--------------------------+---------------------+---------------------------+---------------------------------+------------------------------------+-----------------------------------------------------+--------------------------------+-------------------+---------------------+---------------------+---------------------------------------+-----------------------+-----------------------+--------------------+--------------------+---------------------+--------------------+--------------------+--------------------+--------------------+---------------------+---------------------+--------------------+------------------------+\n",
      "\n"
     ]
    },
    {
     "name": "stderr",
     "output_type": "stream",
     "text": [
      "                                                                                \r"
     ]
    }
   ],
   "source": [
    "df_filled = df_cleaned.fillna(0.0)\n",
    "df_filled.describe().show(truncate=False)"
   ]
  },
  {
   "cell_type": "code",
   "execution_count": 13,
   "id": "01f82bf7",
   "metadata": {},
   "outputs": [
    {
     "name": "stderr",
     "output_type": "stream",
     "text": [
      "25/09/16 13:26:41 WARN BaseSessionStateBuilder$$anon$2: Max iterations (100) reached for batch Operator Optimization before Inferring Filters, please set 'spark.sql.optimizer.maxIterations' to a larger value.\n",
      "25/09/16 13:27:37 WARN BaseSessionStateBuilder$anon$2: Max iterations (100) reached for batch Operator Optimization before Inferring Filters, please set 'spark.sql.optimizer.maxIterations' to a larger value.\n",
      "25/09/16 13:28:31 WARN BaseSessionStateBuilder$anon$2: Max iterations (100) reached for batch Operator Optimization before Inferring Filters, please set 'spark.sql.optimizer.maxIterations' to a larger value.\n",
      "25/09/16 13:29:05 WARN BaseSessionStateBuilder$anon$2: Max iterations (100) reached for batch Operator Optimization before Inferring Filters, please set 'spark.sql.optimizer.maxIterations' to a larger value.\n",
      "25/09/16 13:29:44 WARN DAGScheduler: Broadcasting large task binary with size 1713.1 KiB\n"
     ]
    },
    {
     "name": "stdout",
     "output_type": "stream",
     "text": [
      "+-------+------------------+------------------+-----------------+--------------------+------------------+------------------+--------------------+---------------------+---------------------+---------------------+--------------------+--------------------+---------------------+--------------------+---------------------+--------------------+---------------------+---------------------+---------------------+--------------------+--------------------+------------------------+---------------------+------------------------+--------------------+--------------------+-------------------------+--------------------------+-------------------------+--------------------+---------------------+-------------------------+--------------------------------+--------------------+---------------------+---------------------+--------------------+--------------------+--------------------+--------------------+--------------------+------------------+------------------+------------------+---------------------+--------------------+--------------------+--------------------+---------------------+---------------------+---------------------+------------+--------------------+-------------------+--------------------+------------+---------------------+---------------------+-----------------+---------------------+--------------------+------------------+---------------------+---------------------+-------------------+------------------+--------------------+------------------+-------------------+--------------------+--------------------+---------------------+---------------------+--------------------+--------------------+---------------------+---------------------+---------------------+--------------------+---------------------+--------------------+--------------------+--------------------+---------------------+---------------------+---------------------+-------------------+-------------------+-------------------+-------------------+---------------------+---------------------+--------------------+--------------------+---------------------+--------------------+--------------------+-------------------+--------------------+--------------------+---------------------+---------------------+--------------------------+---------------------+---------------------------+---------------------------------+------------------------------------+-----------------------------------------------------+--------------------------------+-------------------+---------------------+---------------------+---------------------------------------+-----------------------+-----------------------+--------------------+--------------------+---------------------+--------------------+--------------------+--------------------+--------------------+---------------------+---------------------+--------------------+------------------------+\n",
      "|summary|energy-kj_100g    |energy-kcal_100g  |energy_100g      |energy-from-fat_100g|fat_100g          |saturated-fat_100g|butyric-acid_100g   |caproic-acid_100g    |caprylic-acid_100g   |capric-acid_100g     |lauric-acid_100g    |myristic-acid_100g  |palmitic-acid_100g   |stearic-acid_100g   |arachidic-acid_100g  |behenic-acid_100g   |lignoceric-acid_100g |cerotic-acid_100g    |montanic-acid_100g   |melissic-acid_100g  |unsaturated-fat_100g|monounsaturated-fat_100g|omega-9-fat_100g     |polyunsaturated-fat_100g|omega-3-fat_100g    |omega-6-fat_100g    |alpha-linolenic-acid_100g|eicosapentaenoic-acid_100g|docosahexaenoic-acid_100g|linoleic-acid_100g  |arachidonic-acid_100g|gamma-linolenic-acid_100g|dihomo-gamma-linolenic-acid_100g|oleic-acid_100g     |elaidic-acid_100g    |gondoic-acid_100g    |mead-acid_100g      |erucic-acid_100g    |nervonic-acid_100g  |trans-fat_100g      |cholesterol_100g    |carbohydrates_100g|sugars_100g       |added-sugars_100g |sucrose_100g         |glucose_100g        |fructose_100g       |galactose_100g      |lactose_100g         |maltose_100g         |maltodextrins_100g   |psicose_100g|starch_100g         |polyols_100g       |erythritol_100g     |isomalt_100g|maltitol_100g        |sorbitol_100g        |fiber_100g       |soluble-fiber_100g   |insoluble-fiber_100g|proteins_100g     |casein_100g          |serum-proteins_100g  |nucleotides_100g   |salt_100g         |added-salt_100g     |sodium_100g       |alcohol_100g       |vitamin-a_100g      |beta-carotene_100g  |vitamin-d_100g       |vitamin-e_100g       |vitamin-k_100g      |vitamin-c_100g      |vitamin-b1_100g      |vitamin-b2_100g      |vitamin-pp_100g      |vitamin-b6_100g     |vitamin-b9_100g      |folates_100g        |vitamin-b12_100g    |biotin_100g         |pantothenic-acid_100g|silica_100g          |bicarbonate_100g     |potassium_100g     |chloride_100g      |calcium_100g       |phosphorus_100g    |iron_100g            |magnesium_100g       |zinc_100g           |copper_100g         |manganese_100g       |fluoride_100g       |selenium_100g       |chromium_100g      |molybdenum_100g     |iodine_100g         |caffeine_100g        |taurine_100g         |methylsulfonylmethane_100g|ph_100g              |fruits-vegetables-nuts_100g|fruits-vegetables-nuts-dried_100g|fruits-vegetables-nuts-estimate_100g|fruits-vegetables-nuts-estimate-from-ingredients_100g|collagen-meat-protein-ratio_100g|cocoa_100g         |chlorophyl_100g      |carbon-footprint_100g|carbon-footprint-from-meat-or-fish_100g|nutrition-score-fr_100g|nutrition-score-uk_100g|glycemic-index_100g |water-hardness_100g |choline_100g         |phylloquinone_100g  |beta-glucan_100g    |inositol_100g       |carnitine_100g      |sulphate_100g        |nitrate_100g         |acidity_100g        |carbohydrates-total_100g|\n",
      "+-------+------------------+------------------+-----------------+--------------------+------------------+------------------+--------------------+---------------------+---------------------+---------------------+--------------------+--------------------+---------------------+--------------------+---------------------+--------------------+---------------------+---------------------+---------------------+--------------------+--------------------+------------------------+---------------------+------------------------+--------------------+--------------------+-------------------------+--------------------------+-------------------------+--------------------+---------------------+-------------------------+--------------------------------+--------------------+---------------------+---------------------+--------------------+--------------------+--------------------+--------------------+--------------------+------------------+------------------+------------------+---------------------+--------------------+--------------------+--------------------+---------------------+---------------------+---------------------+------------+--------------------+-------------------+--------------------+------------+---------------------+---------------------+-----------------+---------------------+--------------------+------------------+---------------------+---------------------+-------------------+------------------+--------------------+------------------+-------------------+--------------------+--------------------+---------------------+---------------------+--------------------+--------------------+---------------------+---------------------+---------------------+--------------------+---------------------+--------------------+--------------------+--------------------+---------------------+---------------------+---------------------+-------------------+-------------------+-------------------+-------------------+---------------------+---------------------+--------------------+--------------------+---------------------+--------------------+--------------------+-------------------+--------------------+--------------------+---------------------+---------------------+--------------------------+---------------------+---------------------------+---------------------------------+------------------------------------+-----------------------------------------------------+--------------------------------+-------------------+---------------------+---------------------+---------------------------------------+-----------------------+-----------------------+--------------------+--------------------+---------------------+--------------------+--------------------+--------------------+--------------------+---------------------+---------------------+--------------------+------------------------+\n",
      "|count  |3163955           |3163955           |3163955          |3163955             |3163955           |3163955           |3163955             |3163955              |3163955              |3163955              |3163955             |3163955             |3163955              |3163955             |3163955              |3163955             |3163955              |3163955              |3163955              |3163955             |3163955             |3163955                 |3163955              |3163955                 |3163955             |3163955             |3163955                  |3163955                   |3163955                  |3163955             |3163955              |3163955                  |3163955                         |3163955             |3163955              |3163955              |3163955             |3163955             |3163955             |3163955             |3163955             |3163955           |3163955           |3163955           |3163955              |3163955             |3163955             |3163955             |3163955              |3163955              |3163955              |0           |3163955             |3163955            |3163955             |0           |3163955              |3163955              |3163955          |3163955              |3163955             |3163955           |3163955              |3163955              |3163955            |3163955           |3163955             |3163955           |3163955            |3163955             |3163955             |3163955              |3163955              |3163955             |3163955             |3163955              |3163955              |3163955              |3163955             |3163955              |3163955             |3163955             |3163955             |3163955              |3163955              |3163955              |3163955            |3163955            |3163955            |3163955            |3163955              |3163955              |3163955             |3163955             |3163955              |3163955             |3163955             |3163955            |3163955             |3163955             |3163955              |3163955              |0                         |3163955              |3163955                    |3163955                          |3163955                             |3163955                                              |3163955                         |3163955            |3163955              |3163955              |3163955                                |3163955                |0                      |3163955             |3163955             |3163955              |3163955             |3163955             |3163955             |3163955             |3163955              |3163955              |3163955             |3163955                 |\n",
      "|mean   |27.539811496302477|247.85733179002793|681.136909949096 |0.08958390052955872 |12.936459096712072|4.54404492651639  |2.977867118827543E-5|1.8254516404310432E-5|1.0200001493384072E-4|1.1452615034031772E-4|3.554904863691171E-4|9.328362992014741E-5|1.9404552153621024E-4|7.176950677237824E-5|1.2342542235904114E-4|1.248275880325732E-4|1.9251020321085478E-5|1.6787786185075327E-5|4.6960968705749606E-5|6.706481953978485E-5|7.940593339665071E-4|0.2770676640354695      |0.0011058827716640095|0.15845573332109797     |0.010517755109356682|0.005308168176786154|0.0019191590259533084    |1.300450784066145E-4      |1.9334947425295244E-4    |8.108608437234729E-4|1.5495879827620812E-4|1.945876920973908E-5     |1.514314249096463E-4            |7.191629640750264E-4|1.0272036893697918E-5|5.8634939740166964E-5|4.039625121090534E-6|4.879812165470116E-7|2.600534428931511E-5|0.011305765680264132|0.006795924527883792|26.49316528124557 |11.586764632639191|0.3478315583153407|0.0012931103029215016|4.395236692377104E-4|7.383706784704587E-4|7.095549715466876E-6|0.0019013733425881207|2.1434459164457138E-4|2.0311852701078244E-4|NULL        |0.005984602939233492|0.09276996089542686|4.995099487824573E-4|NULL        |2.9045925115875545E-5|1.1352879544747002E-5|1.590901447670967|0.0037867387494449197|0.005773650699836123|9.163578390771427 |1.0812193636761585E-4|4.2548727210089894E-4|1.4629320612967E-4 |1.2545118542528169|3.240880480284959E-5|0.5802475964239381|0.04539159935807264|0.009246968451465923|3.061779188399014E-4|4.4433131487045936E-4|0.0010346531597152596|5.113378114601264E-4|0.003962400133045422|0.0037965835677835325|3.2670731999406166E-4|4.3120789547446164E-4|9.712215524102353E-4|0.0011804956313383817|5.982232980317483E-4|3.718363533098938E-4|1.801128201323976E-4|2.546674406591185E-4 |1.8612594238113367E-4|3.0425088824398585E-4|0.03519554766810669|2.97533887756937E-4|0.02624278940910638|0.00427863296047998|0.0018390872755694612|0.0034827015194362826|8.487301986186724E-4|4.667115289779504E-4|4.0800776472588266E-4|4.0082641695947E-5  |5.740335775913882E-4|9.22233990148406E-5|2.523940733400759E-4|7.784207113377684E-4|0.0017290673023190044|2.2393274037794473E-4|NULL                      |0.0015205976045803437|0.14233064123857642        |0.008654708995545135             |0.1970615119368006                  |6.462277797645417                                    |0.001528729706964859            |0.14391138164101575|4.913201989282401E-6 |0.023908779483350396 |1.1318257076981184                     |4.720795333688375      |NULL                   |9.503927837153184E-5|4.261024572094104E-6|1.9325578840703926E-4|9.399380396655452E-5|8.111050884099174E-5|6.901972594426913E-5|4.419702555820169E-6|4.034203166606353E-6 |1.4632167650930556E-6|4.974786303850719E-5|7.302821942789958E-4    |\n",
      "|stddev |128.07639843009505|193.91327948593863|370.6856178314863|6.9461738238511215  |21.008762347240648|9.126776277774399 |0.027909598717960022|0.02717997273655613  |0.08290137092367907  |0.0834458432854326   |0.21061232773772406 |0.08431328686798344 |0.18128124378476912  |0.056938794021278244|0.04909356149687069  |0.1753953437953243  |0.03162910653840771  |0.01604960298941738  |0.04671724592923424  |0.05318242090349819 |0.2123082894978518  |5.343969903677714       |0.23956971046446113  |3.5798489274766547      |1.7132688105801221  |0.8166298094243846  |0.6510623282633154       |0.0803381081182751        |0.10246390364232473      |0.1503006477093156  |0.083096627730332    |0.02155999502185787      |0.09224279896528012             |0.1829039926904736  |0.013719447431352505 |0.05149498690316884  |0.004822625349925829|4.874497005439794E-4|0.03285504715021926 |0.9235975169164677  |0.5517456747919157  |32.26126155258531 |21.573006834714555|4.224362713056259 |0.33727287462233185  |0.12650608184818873 |0.18441073465912472 |0.004162590672972851|0.27924957640735776  |0.16848216682591144  |0.13225675996613673  |NULL        |0.5523277307475867  |2.8264673957570565 |0.12443301142376877 |NULL        |0.032280060338296654 |0.01795302919939667  |5.848880053669066|0.39251886083576787  |0.3252984625567645  |13.175489697548732|0.04124587635776633  |0.37093653525015063  |0.08534641307690427|10.34715848005217 |0.009532260357852883|8.32680983762393  |1.4741361900748184 |1.9056559803973654  |0.4007861298782914  |0.1386587622848087   |0.48936780190421497  |0.3760157088138157  |0.5422057517395834  |0.6835073382180791   |0.123822314820339    |0.1196151393524654   |0.38106166920456735 |0.49728355929979223  |0.4746403888466694  |0.1763681862662748  |0.06981055026931143 |0.18124859091297665  |0.2173035581472146   |0.19584799846599665  |2.2870733779809154 |0.12824744935969007|1.9808807447926438 |1.0119069390473463 |0.1933069647548539   |0.6070998420090881   |0.6401276981995232  |0.5503759156907861  |0.5014827797345456   |0.052336919130054824|0.4464421235566907  |0.08759108735341303|0.13847275049418092 |0.49659051917342145 |0.5032450675088891   |0.2297384112299628   |NULL                      |0.10587871031630555  |3.311070839792637          |0.8799709805774412               |3.62885917417247                    |20.582108798276824                                   |0.16263954116619084             |3.008531435403038  |0.0034563947903994466|3.3504567530947873   |23.542120218968968                     |8.41550526001474       |NULL                   |0.06673689849765133 |0.00522206839915249 |0.22358143920074555  |0.1000864402508894  |0.02182629822178417 |0.06690024577444507 |0.006497976185679969|0.0031361925551875885|0.0015153668165651636|0.019027151595677652|0.22861129704232447     |\n",
      "|min    |0.0               |0.0               |0.0              |0.0                 |0.0               |0.0               |0.0                 |0.0                  |0.0                  |0.0                  |0.0                 |0.0                 |0.0                  |0.0                 |0.0                  |0.0                 |0.0                  |0.0                  |0.0                  |0.0                 |0.0                 |0.0                     |0.0                  |0.0                     |0.0                 |0.0                 |0.0                      |0.0                       |0.0                      |0.0                 |0.0                  |0.0                      |0.0                             |0.0                 |0.0                  |0.0                  |0.0                 |0.0                 |0.0                 |0.0                 |0.0                 |0.0               |0.0               |0.0               |0.0                  |0.0                 |0.0                 |0.0                 |0.0                  |0.0                  |0.0                  |NULL        |0.0                 |0.0                |0.0                 |NULL        |0.0                  |0.0                  |0.0              |0.0                  |0.0                 |0.0               |0.0                  |0.0                  |0.0                |0.0               |0.0                 |0.0               |0.0                |0.0                 |0.0                 |0.0                  |0.0                  |0.0                 |0.0                 |0.0                  |0.0                  |0.0                  |0.0                 |0.0                  |0.0                 |0.0                 |0.0                 |0.0                  |0.0                  |0.0                  |0.0                |0.0                |0.0                |0.0                |0.0                  |0.0                  |0.0                 |0.0                 |0.0                  |0.0                 |0.0                 |0.0                |0.0                 |0.0                 |0.0                  |0.0                  |NULL                      |0.0                  |0.0                        |0.0                              |0.0                                 |0.0                                                  |0.0                             |0.0                |0.0                  |0.0                  |0.0                                    |0                      |NULL                   |0.0                 |0.0                 |0.0                  |0.0                 |0.0                 |0.0                 |0.0                 |0.0                  |0.0                  |0.0                 |0.0                     |\n",
      "|max    |1000.0            |1000.0            |1000.0           |978.0               |1000.0            |1000.0            |36.4                |48.0                 |97.0                 |95.0                 |323.0               |134.0               |300.0                |72.0                |52.1                 |310.0               |56.2                 |20.0                 |61.0                 |68.0                |92.1                |590.0                   |96.0                 |893.0                   |990.0               |945.0               |900.0                    |117.5                     |153.0                    |102.1               |90.9                 |36.4                     |75.0                            |82.0                |23.2                 |77.0                 |7.9                 |0.52                |56.0                |882.0               |381.0               |1000.0            |1000.0            |992.0             |428.0                |100.0               |101.4               |3.5                 |112.0                |225.0                |188.0                |NULL        |304.0               |664.0              |99.4                |NULL        |47.0                 |31.8                 |1000.0           |600.0                |177.0               |1000.0            |60.0                 |633.0                |75.3               |1000.0            |10.4                |1000.0            |1000.0             |900.0               |700.0               |125.0                |740.740740740741     |625.0               |600.0               |667.0                |140.740740740741     |106.0                |467.0               |532.0                |556.0               |190.0               |50.0                |300.0                |375.0                |247.0                |1000.0             |155.0              |1000.0             |776.666666666667   |106.0                |506.0                |977.777777777778    |960.0               |840.0                |88.888              |758.8               |106.0              |160.0               |817.333333333333    |676.280444032214     |400.0                |NULL                      |14.0                 |100.0                      |100.0                            |250.0                               |998.0                                                |100.0                           |100.0              |4.1                  |1000.0               |998.66                                 |55                     |NULL                   |70.0                |9.1                 |390.0                |160.0               |20.0                |75.0                |11.5                |5.2                  |2.0                  |20.0                |197.0                   |\n",
      "+-------+------------------+------------------+-----------------+--------------------+------------------+------------------+--------------------+---------------------+---------------------+---------------------+--------------------+--------------------+---------------------+--------------------+---------------------+--------------------+---------------------+---------------------+---------------------+--------------------+--------------------+------------------------+---------------------+------------------------+--------------------+--------------------+-------------------------+--------------------------+-------------------------+--------------------+---------------------+-------------------------+--------------------------------+--------------------+---------------------+---------------------+--------------------+--------------------+--------------------+--------------------+--------------------+------------------+------------------+------------------+---------------------+--------------------+--------------------+--------------------+---------------------+---------------------+---------------------+------------+--------------------+-------------------+--------------------+------------+---------------------+---------------------+-----------------+---------------------+--------------------+------------------+---------------------+---------------------+-------------------+------------------+--------------------+------------------+-------------------+--------------------+--------------------+---------------------+---------------------+--------------------+--------------------+---------------------+---------------------+---------------------+--------------------+---------------------+--------------------+--------------------+--------------------+---------------------+---------------------+---------------------+-------------------+-------------------+-------------------+-------------------+---------------------+---------------------+--------------------+--------------------+---------------------+--------------------+--------------------+-------------------+--------------------+--------------------+---------------------+---------------------+--------------------------+---------------------+---------------------------+---------------------------------+------------------------------------+-----------------------------------------------------+--------------------------------+-------------------+---------------------+---------------------+---------------------------------------+-----------------------+-----------------------+--------------------+--------------------+---------------------+--------------------+--------------------+--------------------+--------------------+---------------------+---------------------+--------------------+------------------------+\n",
      "\n"
     ]
    },
    {
     "name": "stderr",
     "output_type": "stream",
     "text": [
      "                                                                                \r"
     ]
    }
   ],
   "source": [
    "# Bounds for cleansing\n",
    "lower_bound = 0.0\n",
    "upper_bound = 1000.0\n",
    "\n",
    "batch_size = 50\n",
    "medians = {}\n",
    "\n",
    "# Compute medians for all numeric columns at once\n",
    "numeric_cols = [c for c, t in df_filled.dtypes if t in ('int', 'double', 'float', 'long')]\n",
    "\n",
    "\n",
    "# Process 20–50 columns at a time\n",
    "for i in range(0, len(numeric_cols), batch_size):\n",
    "    batch = numeric_cols[i:i+batch_size]\n",
    "    batch_exprs = [F.expr(f\"percentile_approx(`{c}`, 0.5)\").alias(c) for c in batch]\n",
    "    batch_medians = df_filled.agg(*batch_exprs).collect()[0].asDict()\n",
    "    medians.update(batch_medians)\n",
    "\n",
    "# Build all column transformations in a single select to avoid repeated withColumn\n",
    "df_cleansed = df_filled.select([\n",
    "    when((col(c) < lower_bound) | (col(c) > upper_bound), medians[c]).otherwise(col(c)).alias(c)\n",
    "    if c in medians else col(c)\n",
    "    for c in df_filled.columns\n",
    "])\n",
    "\n",
    "df_cleansed.describe().show(truncate=False)\n"
   ]
  },
  {
   "cell_type": "code",
   "execution_count": 18,
   "id": "77dcb95c",
   "metadata": {},
   "outputs": [],
   "source": [
    "df_cleansed = df_cleansed.fillna(0, subset=nutrient_columns)\n",
    "for c in nutrient_columns:\n",
    "    df_cleansed = df_cleansed.withColumn(c, col(c).cast(\"double\"))"
   ]
  },
  {
   "cell_type": "code",
   "execution_count": 19,
   "id": "99244dc5",
   "metadata": {},
   "outputs": [],
   "source": [
    "assembler = VectorAssembler(\n",
    "    inputCols=nutrient_columns,\n",
    "    outputCol=\"features\",\n",
    "    handleInvalid=\"skip\"  \n",
    ")\n",
    "assembled_df = assembler.transform(df_cleansed)"
   ]
  },
  {
   "cell_type": "code",
   "execution_count": 20,
   "id": "7d28fb81",
   "metadata": {},
   "outputs": [
    {
     "name": "stderr",
     "output_type": "stream",
     "text": [
      "25/09/16 13:34:34 WARN BaseSessionStateBuilder$$anon$2: Max iterations (100) reached for batch Operator Optimization before Inferring Filters, please set 'spark.sql.optimizer.maxIterations' to a larger value.\n",
      "                                                                                \r"
     ]
    }
   ],
   "source": [
    "scaler = StandardScaler(inputCol=\"features\", outputCol=\"scaled_features\", withMean=True, withStd=True)\n",
    "scaler_model = scaler.fit(assembled_df)\n",
    "scaled_df = scaler_model.transform(assembled_df)"
   ]
  },
  {
   "cell_type": "code",
   "execution_count": 21,
   "id": "93e63aaf",
   "metadata": {},
   "outputs": [
    {
     "name": "stderr",
     "output_type": "stream",
     "text": [
      "25/09/16 13:36:34 WARN BaseSessionStateBuilder$$anon$2: Max iterations (100) reached for batch Operator Optimization before Inferring Filters, please set 'spark.sql.optimizer.maxIterations' to a larger value.\n",
      "25/09/16 13:36:35 WARN BaseSessionStateBuilder$$anon$2: Max iterations (100) reached for batch Operator Optimization before Inferring Filters, please set 'spark.sql.optimizer.maxIterations' to a larger value.\n",
      "25/09/16 13:37:10 WARN BaseSessionStateBuilder$anon$2: Max iterations (100) reached for batch Operator Optimization before Inferring Filters, please set 'spark.sql.optimizer.maxIterations' to a larger value.\n",
      "25/09/16 13:38:56 WARN InstanceBuilder: Failed to load implementation from:dev.ludovic.netlib.blas.JNIBLAS\n",
      "25/09/16 13:38:59 WARN BaseSessionStateBuilder$anon$2: Max iterations (100) reached for batch Operator Optimization before Inferring Filters, please set 'spark.sql.optimizer.maxIterations' to a larger value.\n",
      "                                                                                \r"
     ]
    },
    {
     "name": "stdout",
     "output_type": "stream",
     "text": [
      "k = 2, WSSSE = 381112908.42536825\n"
     ]
    },
    {
     "name": "stderr",
     "output_type": "stream",
     "text": [
      "25/09/16 13:39:44 WARN BaseSessionStateBuilder$$anon$2: Max iterations (100) reached for batch Operator Optimization before Inferring Filters, please set 'spark.sql.optimizer.maxIterations' to a larger value.\n",
      "25/09/16 13:40:16 WARN BaseSessionStateBuilder$anon$2: Max iterations (100) reached for batch Operator Optimization before Inferring Filters, please set 'spark.sql.optimizer.maxIterations' to a larger value.\n",
      "25/09/16 13:42:04 WARN BaseSessionStateBuilder$anon$2: Max iterations (100) reached for batch Operator Optimization before Inferring Filters, please set 'spark.sql.optimizer.maxIterations' to a larger value.\n",
      "                                                                                \r"
     ]
    },
    {
     "name": "stdout",
     "output_type": "stream",
     "text": [
      "k = 3, WSSSE = 373196357.18142015\n"
     ]
    },
    {
     "name": "stderr",
     "output_type": "stream",
     "text": [
      "25/09/16 13:42:55 WARN BaseSessionStateBuilder$$anon$2: Max iterations (100) reached for batch Operator Optimization before Inferring Filters, please set 'spark.sql.optimizer.maxIterations' to a larger value.\n",
      "25/09/16 13:43:29 WARN BaseSessionStateBuilder$anon$2: Max iterations (100) reached for batch Operator Optimization before Inferring Filters, please set 'spark.sql.optimizer.maxIterations' to a larger value.\n",
      "25/09/16 13:45:32 WARN BaseSessionStateBuilder$anon$2: Max iterations (100) reached for batch Operator Optimization before Inferring Filters, please set 'spark.sql.optimizer.maxIterations' to a larger value.\n",
      "                                                                                \r"
     ]
    },
    {
     "name": "stdout",
     "output_type": "stream",
     "text": [
      "k = 4, WSSSE = 375233866.33864015\n"
     ]
    },
    {
     "name": "stderr",
     "output_type": "stream",
     "text": [
      "25/09/16 13:46:28 WARN BaseSessionStateBuilder$$anon$2: Max iterations (100) reached for batch Operator Optimization before Inferring Filters, please set 'spark.sql.optimizer.maxIterations' to a larger value.\n",
      "25/09/16 13:47:03 WARN BaseSessionStateBuilder$anon$2: Max iterations (100) reached for batch Operator Optimization before Inferring Filters, please set 'spark.sql.optimizer.maxIterations' to a larger value.\n",
      "25/09/16 13:49:13 WARN BaseSessionStateBuilder$anon$2: Max iterations (100) reached for batch Operator Optimization before Inferring Filters, please set 'spark.sql.optimizer.maxIterations' to a larger value.\n",
      "                                                                                \r"
     ]
    },
    {
     "name": "stdout",
     "output_type": "stream",
     "text": [
      "k = 5, WSSSE = 368004760.8987289\n"
     ]
    },
    {
     "name": "stderr",
     "output_type": "stream",
     "text": [
      "25/09/16 13:50:19 WARN BaseSessionStateBuilder$$anon$2: Max iterations (100) reached for batch Operator Optimization before Inferring Filters, please set 'spark.sql.optimizer.maxIterations' to a larger value.\n",
      "25/09/16 13:51:42 WARN BaseSessionStateBuilder$anon$2: Max iterations (100) reached for batch Operator Optimization before Inferring Filters, please set 'spark.sql.optimizer.maxIterations' to a larger value.\n",
      "25/09/16 13:54:08 WARN BaseSessionStateBuilder$anon$2: Max iterations (100) reached for batch Operator Optimization before Inferring Filters, please set 'spark.sql.optimizer.maxIterations' to a larger value.\n",
      "                                                                                \r"
     ]
    },
    {
     "name": "stdout",
     "output_type": "stream",
     "text": [
      "k = 6, WSSSE = 367302385.07527846\n"
     ]
    },
    {
     "name": "stderr",
     "output_type": "stream",
     "text": [
      "25/09/16 13:54:51 WARN BaseSessionStateBuilder$$anon$2: Max iterations (100) reached for batch Operator Optimization before Inferring Filters, please set 'spark.sql.optimizer.maxIterations' to a larger value.\n",
      "25/09/16 13:55:24 WARN BaseSessionStateBuilder$anon$2: Max iterations (100) reached for batch Operator Optimization before Inferring Filters, please set 'spark.sql.optimizer.maxIterations' to a larger value.\n",
      "25/09/16 13:57:36 WARN BaseSessionStateBuilder$anon$2: Max iterations (100) reached for batch Operator Optimization before Inferring Filters, please set 'spark.sql.optimizer.maxIterations' to a larger value.\n",
      "                                                                                \r"
     ]
    },
    {
     "name": "stdout",
     "output_type": "stream",
     "text": [
      "k = 7, WSSSE = 351904714.0469367\n"
     ]
    },
    {
     "name": "stderr",
     "output_type": "stream",
     "text": [
      "25/09/16 13:58:42 WARN BaseSessionStateBuilder$$anon$2: Max iterations (100) reached for batch Operator Optimization before Inferring Filters, please set 'spark.sql.optimizer.maxIterations' to a larger value.\n",
      "25/09/16 14:00:09 WARN BaseSessionStateBuilder$anon$2: Max iterations (100) reached for batch Operator Optimization before Inferring Filters, please set 'spark.sql.optimizer.maxIterations' to a larger value.\n",
      "25/09/16 14:02:35 WARN BaseSessionStateBuilder$anon$2: Max iterations (100) reached for batch Operator Optimization before Inferring Filters, please set 'spark.sql.optimizer.maxIterations' to a larger value.\n",
      "                                                                                \r"
     ]
    },
    {
     "name": "stdout",
     "output_type": "stream",
     "text": [
      "k = 8, WSSSE = 348018965.4198176\n"
     ]
    },
    {
     "name": "stderr",
     "output_type": "stream",
     "text": [
      "25/09/16 14:03:45 WARN BaseSessionStateBuilder$$anon$2: Max iterations (100) reached for batch Operator Optimization before Inferring Filters, please set 'spark.sql.optimizer.maxIterations' to a larger value.\n",
      "25/09/16 14:05:05 WARN BaseSessionStateBuilder$anon$2: Max iterations (100) reached for batch Operator Optimization before Inferring Filters, please set 'spark.sql.optimizer.maxIterations' to a larger value.\n",
      "25/09/16 14:07:42 WARN BaseSessionStateBuilder$anon$2: Max iterations (100) reached for batch Operator Optimization before Inferring Filters, please set 'spark.sql.optimizer.maxIterations' to a larger value.\n",
      "                                                                                \r"
     ]
    },
    {
     "name": "stdout",
     "output_type": "stream",
     "text": [
      "k = 9, WSSSE = 345642070.6479189\n"
     ]
    },
    {
     "name": "stderr",
     "output_type": "stream",
     "text": [
      "25/09/16 14:08:57 WARN BaseSessionStateBuilder$$anon$2: Max iterations (100) reached for batch Operator Optimization before Inferring Filters, please set 'spark.sql.optimizer.maxIterations' to a larger value.\n",
      "25/09/16 14:10:08 WARN BaseSessionStateBuilder$anon$2: Max iterations (100) reached for batch Operator Optimization before Inferring Filters, please set 'spark.sql.optimizer.maxIterations' to a larger value.\n",
      "25/09/16 14:12:35 WARN BaseSessionStateBuilder$anon$2: Max iterations (100) reached for batch Operator Optimization before Inferring Filters, please set 'spark.sql.optimizer.maxIterations' to a larger value.\n",
      "                                                                                \r"
     ]
    },
    {
     "name": "stdout",
     "output_type": "stream",
     "text": [
      "k = 10, WSSSE = 350760652.6371238\n"
     ]
    },
    {
     "name": "stderr",
     "output_type": "stream",
     "text": [
      "25/09/16 14:13:21 WARN BaseSessionStateBuilder$$anon$2: Max iterations (100) reached for batch Operator Optimization before Inferring Filters, please set 'spark.sql.optimizer.maxIterations' to a larger value.\n",
      "25/09/16 14:13:55 WARN BaseSessionStateBuilder$anon$2: Max iterations (100) reached for batch Operator Optimization before Inferring Filters, please set 'spark.sql.optimizer.maxIterations' to a larger value.\n",
      "25/09/16 14:16:14 WARN BaseSessionStateBuilder$anon$2: Max iterations (100) reached for batch Operator Optimization before Inferring Filters, please set 'spark.sql.optimizer.maxIterations' to a larger value.\n",
      "                                                                                \r"
     ]
    },
    {
     "name": "stdout",
     "output_type": "stream",
     "text": [
      "k = 11, WSSSE = 341708548.18484837\n"
     ]
    },
    {
     "name": "stderr",
     "output_type": "stream",
     "text": [
      "25/09/16 14:16:50 WARN BaseSessionStateBuilder$$anon$2: Max iterations (100) reached for batch Operator Optimization before Inferring Filters, please set 'spark.sql.optimizer.maxIterations' to a larger value.\n",
      "25/09/16 14:17:26 WARN BaseSessionStateBuilder$anon$2: Max iterations (100) reached for batch Operator Optimization before Inferring Filters, please set 'spark.sql.optimizer.maxIterations' to a larger value.\n",
      "25/09/16 14:19:48 WARN BaseSessionStateBuilder$anon$2: Max iterations (100) reached for batch Operator Optimization before Inferring Filters, please set 'spark.sql.optimizer.maxIterations' to a larger value.\n",
      "                                                                                \r"
     ]
    },
    {
     "name": "stdout",
     "output_type": "stream",
     "text": [
      "k = 12, WSSSE = 340901530.16569847\n"
     ]
    },
    {
     "name": "stderr",
     "output_type": "stream",
     "text": [
      "25/09/16 14:21:02 WARN BaseSessionStateBuilder$$anon$2: Max iterations (100) reached for batch Operator Optimization before Inferring Filters, please set 'spark.sql.optimizer.maxIterations' to a larger value.\n",
      "25/09/16 14:22:23 WARN BaseSessionStateBuilder$anon$2: Max iterations (100) reached for batch Operator Optimization before Inferring Filters, please set 'spark.sql.optimizer.maxIterations' to a larger value.\n",
      "25/09/16 14:24:59 WARN BaseSessionStateBuilder$anon$2: Max iterations (100) reached for batch Operator Optimization before Inferring Filters, please set 'spark.sql.optimizer.maxIterations' to a larger value.\n",
      "                                                                                \r"
     ]
    },
    {
     "name": "stdout",
     "output_type": "stream",
     "text": [
      "k = 13, WSSSE = 333131871.68694407\n"
     ]
    },
    {
     "name": "stderr",
     "output_type": "stream",
     "text": [
      "25/09/16 14:25:45 WARN BaseSessionStateBuilder$$anon$2: Max iterations (100) reached for batch Operator Optimization before Inferring Filters, please set 'spark.sql.optimizer.maxIterations' to a larger value.\n",
      "25/09/16 14:26:22 WARN BaseSessionStateBuilder$anon$2: Max iterations (100) reached for batch Operator Optimization before Inferring Filters, please set 'spark.sql.optimizer.maxIterations' to a larger value.\n",
      "25/09/16 14:29:54 WARN BaseSessionStateBuilder$anon$2: Max iterations (100) reached for batch Operator Optimization before Inferring Filters, please set 'spark.sql.optimizer.maxIterations' to a larger value.\n",
      "[Stage 481:======================================================>(86 + 1) / 87]\r"
     ]
    },
    {
     "name": "stdout",
     "output_type": "stream",
     "text": [
      "k = 14, WSSSE = 333438180.69092953\n"
     ]
    },
    {
     "name": "stderr",
     "output_type": "stream",
     "text": [
      "                                                                                \r"
     ]
    }
   ],
   "source": [
    "errors = []\n",
    "k_values = list(range(2, 15)) \n",
    "\n",
    "for k in k_values:\n",
    "    kmeans = KMeans(k=k, seed=42, featuresCol=\"scaled_features\")\n",
    "    model = kmeans.fit(scaled_df)\n",
    "    wssse = model.summary.trainingCost\n",
    "    errors.append(wssse)\n",
    "    print(f\"k = {k}, WSSSE = {wssse}\")"
   ]
  },
  {
   "cell_type": "code",
   "execution_count": 22,
   "id": "12d83afb",
   "metadata": {},
   "outputs": [
    {
     "data": {
      "image/png": "[encoded data removed]",
      "text/plain": [
       "<Figure size 800x500 with 1 Axes>"
      ]
     },
     "metadata": {},
     "output_type": "display_data"
    }
   ],
   "source": [
    "plt.figure(figsize=(8, 5))\n",
    "plt.plot(k_values, errors, marker='o')\n",
    "plt.xlabel(\"Number of Clusters (k)\")\n",
    "plt.ylabel(\"WSSSE (Within Set Sum of Squared Errors)\")\n",
    "plt.title(\"Elbow Method for Optimal k\")\n",
    "plt.grid(True)\n",
    "plt.show()"
   ]
  },
  {
   "cell_type": "code",
   "execution_count": 23,
   "id": "67acb1be",
   "metadata": {},
   "outputs": [
    {
     "name": "stderr",
     "output_type": "stream",
     "text": [
      "25/09/16 14:45:11 WARN BaseSessionStateBuilder$$anon$2: Max iterations (100) reached for batch Operator Optimization before Inferring Filters, please set 'spark.sql.optimizer.maxIterations' to a larger value.\n",
      "25/09/16 14:45:48 WARN BaseSessionStateBuilder$anon$2: Max iterations (100) reached for batch Operator Optimization before Inferring Filters, please set 'spark.sql.optimizer.maxIterations' to a larger value.\n",
      "25/09/16 14:47:31 WARN BaseSessionStateBuilder$anon$2: Max iterations (100) reached for batch Operator Optimization before Inferring Filters, please set 'spark.sql.optimizer.maxIterations' to a larger value.\n",
      "25/09/16 14:48:12 WARN BaseSessionStateBuilder$anon$2: Max iterations (100) reached for batch Operator Optimization before Inferring Filters, please set 'spark.sql.optimizer.maxIterations' to a larger value.\n",
      "25/09/16 14:48:50 WARN BaseSessionStateBuilder$anon$2: Max iterations (100) reached for batch Operator Optimization before Inferring Filters, please set 'spark.sql.optimizer.maxIterations' to a larger value.\n",
      "                                                                                \r"
     ]
    },
    {
     "name": "stdout",
     "output_type": "stream",
     "text": [
      "k = 2, silhouette = 0.9999\n"
     ]
    },
    {
     "name": "stderr",
     "output_type": "stream",
     "text": [
      "25/09/16 14:49:40 WARN BaseSessionStateBuilder$$anon$2: Max iterations (100) reached for batch Operator Optimization before Inferring Filters, please set 'spark.sql.optimizer.maxIterations' to a larger value.\n",
      "25/09/16 14:50:42 WARN BaseSessionStateBuilder$anon$2: Max iterations (100) reached for batch Operator Optimization before Inferring Filters, please set 'spark.sql.optimizer.maxIterations' to a larger value.\n",
      "25/09/16 14:52:30 WARN BaseSessionStateBuilder$anon$2: Max iterations (100) reached for batch Operator Optimization before Inferring Filters, please set 'spark.sql.optimizer.maxIterations' to a larger value.\n",
      "25/09/16 14:53:13 WARN BaseSessionStateBuilder$anon$2: Max iterations (100) reached for batch Operator Optimization before Inferring Filters, please set 'spark.sql.optimizer.maxIterations' to a larger value.\n",
      "25/09/16 14:53:46 WARN BaseSessionStateBuilder$anon$2: Max iterations (100) reached for batch Operator Optimization before Inferring Filters, please set 'spark.sql.optimizer.maxIterations' to a larger value.\n",
      "                                                                                \r"
     ]
    },
    {
     "name": "stdout",
     "output_type": "stream",
     "text": [
      "k = 3, silhouette = 0.9999\n"
     ]
    },
    {
     "name": "stderr",
     "output_type": "stream",
     "text": [
      "25/09/16 14:54:16 WARN BaseSessionStateBuilder$$anon$2: Max iterations (100) reached for batch Operator Optimization before Inferring Filters, please set 'spark.sql.optimizer.maxIterations' to a larger value.\n",
      "25/09/16 14:54:48 WARN BaseSessionStateBuilder$anon$2: Max iterations (100) reached for batch Operator Optimization before Inferring Filters, please set 'spark.sql.optimizer.maxIterations' to a larger value.\n",
      "25/09/16 14:56:39 WARN BaseSessionStateBuilder$anon$2: Max iterations (100) reached for batch Operator Optimization before Inferring Filters, please set 'spark.sql.optimizer.maxIterations' to a larger value.\n",
      "25/09/16 14:57:26 WARN BaseSessionStateBuilder$anon$2: Max iterations (100) reached for batch Operator Optimization before Inferring Filters, please set 'spark.sql.optimizer.maxIterations' to a larger value.\n",
      "25/09/16 14:57:59 WARN BaseSessionStateBuilder$anon$2: Max iterations (100) reached for batch Operator Optimization before Inferring Filters, please set 'spark.sql.optimizer.maxIterations' to a larger value.\n",
      "                                                                                \r"
     ]
    },
    {
     "name": "stdout",
     "output_type": "stream",
     "text": [
      "k = 4, silhouette = 0.9995\n"
     ]
    },
    {
     "name": "stderr",
     "output_type": "stream",
     "text": [
      "25/09/16 14:58:30 WARN BaseSessionStateBuilder$$anon$2: Max iterations (100) reached for batch Operator Optimization before Inferring Filters, please set 'spark.sql.optimizer.maxIterations' to a larger value.\n",
      "25/09/16 14:59:02 WARN BaseSessionStateBuilder$anon$2: Max iterations (100) reached for batch Operator Optimization before Inferring Filters, please set 'spark.sql.optimizer.maxIterations' to a larger value.\n",
      "25/09/16 15:01:14 WARN BaseSessionStateBuilder$anon$2: Max iterations (100) reached for batch Operator Optimization before Inferring Filters, please set 'spark.sql.optimizer.maxIterations' to a larger value.\n",
      "25/09/16 15:02:07 WARN BaseSessionStateBuilder$anon$2: Max iterations (100) reached for batch Operator Optimization before Inferring Filters, please set 'spark.sql.optimizer.maxIterations' to a larger value.\n",
      "25/09/16 15:02:42 WARN BaseSessionStateBuilder$anon$2: Max iterations (100) reached for batch Operator Optimization before Inferring Filters, please set 'spark.sql.optimizer.maxIterations' to a larger value.\n",
      "                                                                                \r"
     ]
    },
    {
     "name": "stdout",
     "output_type": "stream",
     "text": [
      "k = 5, silhouette = 0.9995\n"
     ]
    },
    {
     "name": "stderr",
     "output_type": "stream",
     "text": [
      "25/09/16 15:03:20 WARN BaseSessionStateBuilder$$anon$2: Max iterations (100) reached for batch Operator Optimization before Inferring Filters, please set 'spark.sql.optimizer.maxIterations' to a larger value.\n",
      "25/09/16 15:04:28 WARN BaseSessionStateBuilder$anon$2: Max iterations (100) reached for batch Operator Optimization before Inferring Filters, please set 'spark.sql.optimizer.maxIterations' to a larger value.\n",
      "25/09/16 15:06:47 WARN BaseSessionStateBuilder$anon$2: Max iterations (100) reached for batch Operator Optimization before Inferring Filters, please set 'spark.sql.optimizer.maxIterations' to a larger value.\n",
      "25/09/16 15:07:58 WARN BaseSessionStateBuilder$anon$2: Max iterations (100) reached for batch Operator Optimization before Inferring Filters, please set 'spark.sql.optimizer.maxIterations' to a larger value.\n",
      "25/09/16 15:09:01 WARN BaseSessionStateBuilder$anon$2: Max iterations (100) reached for batch Operator Optimization before Inferring Filters, please set 'spark.sql.optimizer.maxIterations' to a larger value.\n",
      "                                                                                \r"
     ]
    },
    {
     "name": "stdout",
     "output_type": "stream",
     "text": [
      "k = 6, silhouette = 0.9994\n"
     ]
    },
    {
     "name": "stderr",
     "output_type": "stream",
     "text": [
      "25/09/16 15:10:01 WARN BaseSessionStateBuilder$$anon$2: Max iterations (100) reached for batch Operator Optimization before Inferring Filters, please set 'spark.sql.optimizer.maxIterations' to a larger value.\n",
      "25/09/16 15:11:02 WARN BaseSessionStateBuilder$anon$2: Max iterations (100) reached for batch Operator Optimization before Inferring Filters, please set 'spark.sql.optimizer.maxIterations' to a larger value.\n",
      "25/09/16 15:13:05 WARN BaseSessionStateBuilder$anon$2: Max iterations (100) reached for batch Operator Optimization before Inferring Filters, please set 'spark.sql.optimizer.maxIterations' to a larger value.\n",
      "25/09/16 15:13:47 WARN BaseSessionStateBuilder$anon$2: Max iterations (100) reached for batch Operator Optimization before Inferring Filters, please set 'spark.sql.optimizer.maxIterations' to a larger value.\n",
      "25/09/16 15:14:18 WARN BaseSessionStateBuilder$anon$2: Max iterations (100) reached for batch Operator Optimization before Inferring Filters, please set 'spark.sql.optimizer.maxIterations' to a larger value.\n",
      "                                                                                \r"
     ]
    },
    {
     "name": "stdout",
     "output_type": "stream",
     "text": [
      "k = 7, silhouette = 0.0556\n"
     ]
    },
    {
     "name": "stderr",
     "output_type": "stream",
     "text": [
      "25/09/16 15:14:50 WARN BaseSessionStateBuilder$$anon$2: Max iterations (100) reached for batch Operator Optimization before Inferring Filters, please set 'spark.sql.optimizer.maxIterations' to a larger value.\n",
      "25/09/16 15:15:24 WARN BaseSessionStateBuilder$anon$2: Max iterations (100) reached for batch Operator Optimization before Inferring Filters, please set 'spark.sql.optimizer.maxIterations' to a larger value.\n",
      "25/09/16 15:17:17 WARN BaseSessionStateBuilder$anon$2: Max iterations (100) reached for batch Operator Optimization before Inferring Filters, please set 'spark.sql.optimizer.maxIterations' to a larger value.\n",
      "25/09/16 15:18:01 WARN BaseSessionStateBuilder$anon$2: Max iterations (100) reached for batch Operator Optimization before Inferring Filters, please set 'spark.sql.optimizer.maxIterations' to a larger value.\n",
      "25/09/16 15:18:29 WARN BaseSessionStateBuilder$anon$2: Max iterations (100) reached for batch Operator Optimization before Inferring Filters, please set 'spark.sql.optimizer.maxIterations' to a larger value.\n",
      "                                                                                \r"
     ]
    },
    {
     "name": "stdout",
     "output_type": "stream",
     "text": [
      "k = 8, silhouette = 0.0513\n"
     ]
    },
    {
     "name": "stderr",
     "output_type": "stream",
     "text": [
      "25/09/16 15:19:00 WARN BaseSessionStateBuilder$$anon$2: Max iterations (100) reached for batch Operator Optimization before Inferring Filters, please set 'spark.sql.optimizer.maxIterations' to a larger value.\n",
      "25/09/16 15:19:32 WARN BaseSessionStateBuilder$anon$2: Max iterations (100) reached for batch Operator Optimization before Inferring Filters, please set 'spark.sql.optimizer.maxIterations' to a larger value.\n",
      "25/09/16 15:21:45 WARN BaseSessionStateBuilder$anon$2: Max iterations (100) reached for batch Operator Optimization before Inferring Filters, please set 'spark.sql.optimizer.maxIterations' to a larger value.\n",
      "25/09/16 15:22:31 WARN BaseSessionStateBuilder$anon$2: Max iterations (100) reached for batch Operator Optimization before Inferring Filters, please set 'spark.sql.optimizer.maxIterations' to a larger value.\n",
      "25/09/16 15:23:02 WARN BaseSessionStateBuilder$anon$2: Max iterations (100) reached for batch Operator Optimization before Inferring Filters, please set 'spark.sql.optimizer.maxIterations' to a larger value.\n",
      "                                                                                \r"
     ]
    },
    {
     "name": "stdout",
     "output_type": "stream",
     "text": [
      "k = 9, silhouette = 0.0555\n"
     ]
    },
    {
     "name": "stderr",
     "output_type": "stream",
     "text": [
      "25/09/16 15:23:34 WARN BaseSessionStateBuilder$$anon$2: Max iterations (100) reached for batch Operator Optimization before Inferring Filters, please set 'spark.sql.optimizer.maxIterations' to a larger value.\n",
      "25/09/16 15:24:09 WARN BaseSessionStateBuilder$anon$2: Max iterations (100) reached for batch Operator Optimization before Inferring Filters, please set 'spark.sql.optimizer.maxIterations' to a larger value.\n",
      "25/09/16 15:25:52 WARN BaseSessionStateBuilder$anon$2: Max iterations (100) reached for batch Operator Optimization before Inferring Filters, please set 'spark.sql.optimizer.maxIterations' to a larger value.\n",
      "25/09/16 15:26:32 WARN BaseSessionStateBuilder$anon$2: Max iterations (100) reached for batch Operator Optimization before Inferring Filters, please set 'spark.sql.optimizer.maxIterations' to a larger value.\n",
      "25/09/16 15:27:05 WARN BaseSessionStateBuilder$anon$2: Max iterations (100) reached for batch Operator Optimization before Inferring Filters, please set 'spark.sql.optimizer.maxIterations' to a larger value.\n",
      "                                                                                \r"
     ]
    },
    {
     "name": "stdout",
     "output_type": "stream",
     "text": [
      "k = 10, silhouette = 0.6634\n"
     ]
    },
    {
     "name": "stderr",
     "output_type": "stream",
     "text": [
      "25/09/16 15:27:39 WARN BaseSessionStateBuilder$$anon$2: Max iterations (100) reached for batch Operator Optimization before Inferring Filters, please set 'spark.sql.optimizer.maxIterations' to a larger value.\n",
      "25/09/16 15:28:14 WARN BaseSessionStateBuilder$anon$2: Max iterations (100) reached for batch Operator Optimization before Inferring Filters, please set 'spark.sql.optimizer.maxIterations' to a larger value.\n",
      "25/09/16 15:29:59 WARN BaseSessionStateBuilder$anon$2: Max iterations (100) reached for batch Operator Optimization before Inferring Filters, please set 'spark.sql.optimizer.maxIterations' to a larger value.\n",
      "25/09/16 15:30:48 WARN BaseSessionStateBuilder$anon$2: Max iterations (100) reached for batch Operator Optimization before Inferring Filters, please set 'spark.sql.optimizer.maxIterations' to a larger value.\n",
      "25/09/16 15:31:20 WARN BaseSessionStateBuilder$anon$2: Max iterations (100) reached for batch Operator Optimization before Inferring Filters, please set 'spark.sql.optimizer.maxIterations' to a larger value.\n",
      "                                                                                \r"
     ]
    },
    {
     "name": "stdout",
     "output_type": "stream",
     "text": [
      "k = 11, silhouette = 0.0921\n"
     ]
    },
    {
     "name": "stderr",
     "output_type": "stream",
     "text": [
      "25/09/16 15:31:50 WARN BaseSessionStateBuilder$$anon$2: Max iterations (100) reached for batch Operator Optimization before Inferring Filters, please set 'spark.sql.optimizer.maxIterations' to a larger value.\n",
      "25/09/16 15:32:23 WARN BaseSessionStateBuilder$anon$2: Max iterations (100) reached for batch Operator Optimization before Inferring Filters, please set 'spark.sql.optimizer.maxIterations' to a larger value.\n",
      "25/09/16 15:34:28 WARN BaseSessionStateBuilder$anon$2: Max iterations (100) reached for batch Operator Optimization before Inferring Filters, please set 'spark.sql.optimizer.maxIterations' to a larger value.\n",
      "25/09/16 15:35:36 WARN BaseSessionStateBuilder$anon$2: Max iterations (100) reached for batch Operator Optimization before Inferring Filters, please set 'spark.sql.optimizer.maxIterations' to a larger value.\n",
      "25/09/16 15:36:35 WARN BaseSessionStateBuilder$anon$2: Max iterations (100) reached for batch Operator Optimization before Inferring Filters, please set 'spark.sql.optimizer.maxIterations' to a larger value.\n",
      "                                                                                \r"
     ]
    },
    {
     "name": "stdout",
     "output_type": "stream",
     "text": [
      "k = 12, silhouette = 0.0487\n"
     ]
    },
    {
     "name": "stderr",
     "output_type": "stream",
     "text": [
      "25/09/16 15:37:34 WARN BaseSessionStateBuilder$$anon$2: Max iterations (100) reached for batch Operator Optimization before Inferring Filters, please set 'spark.sql.optimizer.maxIterations' to a larger value.\n",
      "25/09/16 15:38:35 WARN BaseSessionStateBuilder$anon$2: Max iterations (100) reached for batch Operator Optimization before Inferring Filters, please set 'spark.sql.optimizer.maxIterations' to a larger value.\n",
      "25/09/16 15:40:43 WARN BaseSessionStateBuilder$anon$2: Max iterations (100) reached for batch Operator Optimization before Inferring Filters, please set 'spark.sql.optimizer.maxIterations' to a larger value.\n",
      "25/09/16 15:41:26 WARN BaseSessionStateBuilder$anon$2: Max iterations (100) reached for batch Operator Optimization before Inferring Filters, please set 'spark.sql.optimizer.maxIterations' to a larger value.\n",
      "25/09/16 15:41:57 WARN BaseSessionStateBuilder$anon$2: Max iterations (100) reached for batch Operator Optimization before Inferring Filters, please set 'spark.sql.optimizer.maxIterations' to a larger value.\n",
      "                                                                                \r"
     ]
    },
    {
     "name": "stdout",
     "output_type": "stream",
     "text": [
      "k = 13, silhouette = 0.0841\n"
     ]
    },
    {
     "name": "stderr",
     "output_type": "stream",
     "text": [
      "25/09/16 15:42:27 WARN BaseSessionStateBuilder$$anon$2: Max iterations (100) reached for batch Operator Optimization before Inferring Filters, please set 'spark.sql.optimizer.maxIterations' to a larger value.\n",
      "25/09/16 15:43:00 WARN BaseSessionStateBuilder$anon$2: Max iterations (100) reached for batch Operator Optimization before Inferring Filters, please set 'spark.sql.optimizer.maxIterations' to a larger value.\n",
      "25/09/16 15:45:10 WARN BaseSessionStateBuilder$anon$2: Max iterations (100) reached for batch Operator Optimization before Inferring Filters, please set 'spark.sql.optimizer.maxIterations' to a larger value.\n",
      "25/09/16 15:45:57 WARN BaseSessionStateBuilder$anon$2: Max iterations (100) reached for batch Operator Optimization before Inferring Filters, please set 'spark.sql.optimizer.maxIterations' to a larger value.\n",
      "25/09/16 15:46:30 WARN BaseSessionStateBuilder$anon$2: Max iterations (100) reached for batch Operator Optimization before Inferring Filters, please set 'spark.sql.optimizer.maxIterations' to a larger value.\n",
      "                                                                                \r"
     ]
    },
    {
     "name": "stdout",
     "output_type": "stream",
     "text": [
      "k = 14, silhouette = -0.0781\n"
     ]
    },
    {
     "data": {
      "image/png": "[encoded data removed]",
      "text/plain": [
       "<Figure size 800x500 with 1 Axes>"
      ]
     },
     "metadata": {},
     "output_type": "display_data"
    }
   ],
   "source": [
    "silhouette_scores = []\n",
    "k_values = list(range(2, 15))\n",
    "\n",
    "for k in k_values:\n",
    "    kmeans = KMeans(k=k, seed=42, featuresCol=\"scaled_features\", predictionCol=\"cluster\")\n",
    "    model = kmeans.fit(scaled_df)\n",
    "    predictions = model.transform(scaled_df)\n",
    "\n",
    "    evaluator = ClusteringEvaluator(\n",
    "        featuresCol=\"scaled_features\",\n",
    "        predictionCol=\"cluster\",\n",
    "        metricName=\"silhouette\",\n",
    "        distanceMeasure=\"squaredEuclidean\"\n",
    "    )\n",
    "    score = evaluator.evaluate(predictions)\n",
    "    silhouette_scores.append(score)\n",
    "    print(f\"k = {k}, silhouette = {score:.4f}\")\n",
    "\n",
    "plt.figure(figsize=(8, 5))\n",
    "plt.plot(k_values, silhouette_scores, marker='o')\n",
    "plt.xlabel(\"Number of Clusters (k)\")\n",
    "plt.ylabel(\"Silhouette Score\")\n",
    "plt.title(\"Silhouette Scores for Different k\")\n",
    "plt.grid(True)\n",
    "plt.show()\n",
    "spark.stop()"
   ]
  }
 ],
 "metadata": {
  "kernelspec": {
   "display_name": "bigdata-lab5",
   "language": "python",
   "name": "python3"
  },
  "language_info": {
   "codemirror_mode": {
    "name": "ipython",
    "version": 3
   },
   "file_extension": ".py",
   "mimetype": "text/x-python",
   "name": "python",
   "nbconvert_exporter": "python",
   "pygments_lexer": "ipython3",
   "version": "3.10.0"
  }
 },
 "nbformat": 4,
 "nbformat_minor": 5
}
